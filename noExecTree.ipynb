{
 "cells": [
  {
   "cell_type": "code",
   "execution_count": 10,
   "metadata": {},
   "outputs": [],
   "source": [
    "# Imports\n",
    "import sqlite3\n",
    "\n",
    "from graphviz import Graph\n",
    "\n",
    "from debugprov.validity import Validity\n",
    "from debugprov.node import Node\n",
    "from debugprov.execution_tree import ExecutionTree\n",
    "from debugprov.execution_tree_creator import ExecTreeCreator\n",
    "from debugprov.top_down import TopDown\n",
    "from debugprov.heaviest_first import HeaviestFirst\n",
    "from debugprov.visualization import Visualization\n",
    "from debugprov.provenance_enhancement import ProvenanceEnhancement \n",
    "from debugprov.single_stepping import SingleStepping\n",
    "from debugprov.divide_and_query import DivideAndQuery"
   ]
  },
  {
   "cell_type": "code",
   "execution_count": 11,
   "metadata": {},
   "outputs": [],
   "source": [
    "NOW2_SQLITE_PATH = 'C:/Users/linha/Desktop/ws/py-scripts-examples/statistics/.noworkflow/db.sqlite'"
   ]
  },
  {
   "cell_type": "code",
   "execution_count": 12,
   "metadata": {},
   "outputs": [],
   "source": [
    "CURSOR = sqlite3.connect(NOW2_SQLITE_PATH).cursor()"
   ]
  },
  {
   "cell_type": "code",
   "execution_count": 13,
   "metadata": {},
   "outputs": [],
   "source": [
    "creator = ExecTreeCreator(CURSOR)\n",
    "exec_tree = creator.create_exec_tree()"
   ]
  },
  {
   "cell_type": "code",
   "execution_count": 14,
   "metadata": {},
   "outputs": [],
   "source": [
    "prov = ProvenanceEnhancement(exec_tree, CURSOR)"
   ]
  },
  {
   "cell_type": "code",
   "execution_count": 15,
   "metadata": {},
   "outputs": [
    {
     "data": {
      "text/plain": [
       "301"
      ]
     },
     "execution_count": 15,
     "metadata": {},
     "output_type": "execute_result"
    }
   ],
   "source": [
    "len(prov.dependencies)"
   ]
  },
  {
   "cell_type": "code",
   "execution_count": 16,
   "metadata": {},
   "outputs": [],
   "source": [
    "class CustomVisualization(Visualization):\n",
    "    \n",
    "    # BEGIN CUSTOM ATTRIBUTES\n",
    "    NODE_FUNC_CALL_COLOR = 'beige'\n",
    "    NODE_NOT_FUNC_CALL_COLOR = 'grey60'\n",
    "    # END CUSTOM ATTRIBUTES\n",
    "    \n",
    "    def generate_exec_tree(self, graph_name = 'exec_tree'):\n",
    "        file_name = \"{}.gv\".format(graph_name)\n",
    "        self.graph = Graph(graph_name, filename=file_name)\n",
    "        self.graph.attr('node', shape='box')\n",
    "        self.graph.attr('graph', ordering='out')\n",
    "        root_node = self.exec_tree.root_node\n",
    "        #self.graph.node(str(root_node.ev_id), root_node.get_name(), fillcolor=self.INVALID_COLOR, style='filled') # root node\n",
    "        self.graph.node(str(root_node.ev_id), root_node.get_name())\n",
    "        self.navigate(root_node)\n",
    "        eval_node = self.exec_tree.node_under_evaluation\n",
    "        if eval_node is not None:\n",
    "            self.graph.node(str(eval_node.ev_id), str(eval_node.get_name()), fillcolor=self.NODE_IN_EVALUATION_COLOR, style='filled')\n",
    "        buggy_node = self.exec_tree.buggy_node\n",
    "        if buggy_node is not None:\n",
    "            self.graph.node(str(buggy_node.ev_id), str(buggy_node.get_name()), fillcolor=self.BUGGY_NODE_COLOR, style='filled')\n",
    "        if self.exec_tree.dependencies is not None:\n",
    "            for d in self.exec_tree.dependencies: # this loop draws the provenance links between nodes\n",
    "                ## BEGIN customization\n",
    "                if (d.dependent.code_component_type == 'call'):\n",
    "                    self.graph.node(str(d.dependent.ev_id), \"{} {}\".format(d.dependent.ev_id,d.dependent.code_component_name), fillcolor=self.NODE_FUNC_CALL_COLOR, style='filled')\n",
    "                else:\n",
    "                    self.graph.node(str(d.dependent.ev_id), \"{} {}\".format(d.dependent.ev_id,d.dependent.code_component_name), fillcolor=self.NODE_NOT_FUNC_CALL_COLOR, style='filled')\n",
    "   \n",
    "                if (d.influencer.code_component_type == 'call'):\n",
    "                    self.graph.node(str(d.influencer.ev_id), \"{} {}\".format(d.influencer.ev_id,d.influencer.code_component_name), fillcolor=self.NODE_FUNC_CALL_COLOR, style='filled')\n",
    "                else:\n",
    "                    self.graph.node(str(d.influencer.ev_id), \"{} {}\".format(d.influencer.ev_id,d.influencer.code_component_name), fillcolor=self.NODE_NOT_FUNC_CALL_COLOR, style='filled')\n",
    "                ## END customization\n",
    "                self.graph.edge(str(d.dependent.ev_id), str(d.influencer.ev_id), None, color=self.PROVENANCE_EDGE_COLOR, dir='forward')\n",
    "\n",
    "    def navigate(self, node:Node):\n",
    "        chds = node.childrens\n",
    "        for n in chds:\n",
    "            #self.graph.edge(str(node.ev_id), str(n.ev_id), None, dir='forward')\n",
    "            if n.validity == Validity.INVALID:\n",
    "                self.graph.node(str(n.ev_id), str(n.get_name()), fillcolor=self.INVALID_COLOR, style='filled')\n",
    "            elif n.validity == Validity.VALID: \n",
    "                self.graph.node(str(n.ev_id), str(n.get_name()), fillcolor=self.VALID_COLOR, style='filled')\n",
    "            elif n.validity == Validity.UNKNOWN:  \n",
    "                self.graph.node(str(n.ev_id), str(n.get_name()))\n",
    "            elif n.validity is Validity.NOT_IN_PROV:\n",
    "                self.graph.node(str(n.ev_id), str(n.get_name()), fillcolor=self.PROV_PRUNED_NODE_COLOR, style='filled')\n",
    "        for n in chds: \n",
    "            self.navigate(n)  "
   ]
  },
  {
   "cell_type": "code",
   "execution_count": 17,
   "metadata": {},
   "outputs": [],
   "source": [
    "vis = CustomVisualization(prov.exec_tree)"
   ]
  },
  {
   "cell_type": "code",
   "execution_count": 19,
   "metadata": {},
   "outputs": [],
   "source": [
    "vis.view_exec_tree('exec_tree_prov_full')"
   ]
  },
  {
   "cell_type": "code",
   "execution_count": null,
   "metadata": {},
   "outputs": [],
   "source": []
  }
 ],
 "metadata": {
  "kernelspec": {
   "display_name": "Python 3",
   "language": "python",
   "name": "python3"
  },
  "language_info": {
   "codemirror_mode": {
    "name": "ipython",
    "version": 3
   },
   "file_extension": ".py",
   "mimetype": "text/x-python",
   "name": "python",
   "nbconvert_exporter": "python",
   "pygments_lexer": "ipython3",
   "version": "3.7.2"
  }
 },
 "nbformat": 4,
 "nbformat_minor": 2
}
