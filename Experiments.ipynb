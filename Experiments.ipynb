{
 "cells": [
  {
   "cell_type": "code",
   "execution_count": 1,
   "metadata": {},
   "outputs": [],
   "source": [
    "# Imports\n",
    "import sqlite3\n",
    "import time\n",
    "\n",
    "from graphviz import Graph\n",
    "\n",
    "from pyalgdb.validity import Validity \n",
    "from pyalgdb.node import Node\n",
    "from pyalgdb.provenance_enhancement import ProvenanceEnhancement\n",
    "from pyalgdb.execution_tree_creator import ExecTreeCreator\n",
    "from pyalgdb.top_down import TopDown\n",
    "from pyalgdb.heaviest_first import HeaviestFirst\n",
    "from pyalgdb.visualization import Visualization\n",
    "from pyalgdb.single_stepping import SingleStepping\n",
    "from pyalgdb.divide_and_query import DivideAndQuery"
   ]
  },
  {
   "cell_type": "code",
   "execution_count": 2,
   "metadata": {},
   "outputs": [],
   "source": [
    "NAMES = ['age-avg', 'min-max', 's-example', 'carstore', 'text-processing']\n",
    "EXAMPLE_NAME = NAMES[2]"
   ]
  },
  {
   "cell_type": "code",
   "execution_count": 3,
   "metadata": {},
   "outputs": [],
   "source": [
    "NOW2_SQLITE_PATH = 'C:/Users/linha/Desktop/ws/py-scripts-examples/' + EXAMPLE_NAME + '/.noworkflow/db.sqlite'"
   ]
  },
  {
   "cell_type": "code",
   "execution_count": 4,
   "metadata": {},
   "outputs": [],
   "source": [
    "ANSWER_FILE_PATH = 'aux_files/' + EXAMPLE_NAME + '-answers.json'"
   ]
  },
  {
   "cell_type": "code",
   "execution_count": 6,
   "metadata": {},
   "outputs": [],
   "source": [
    "GENERATE_TREES = True"
   ]
  },
  {
   "cell_type": "code",
   "execution_count": 7,
   "metadata": {},
   "outputs": [],
   "source": [
    "RUN_1ST_EXPERIMENT = True\n",
    "RUN_2ND_EXPERIMENT = True\n",
    "RUN_3RD_EXPERIMENT = True"
   ]
  },
  {
   "cell_type": "code",
   "execution_count": 8,
   "metadata": {},
   "outputs": [],
   "source": [
    "CURSOR = sqlite3.connect(NOW2_SQLITE_PATH).cursor()"
   ]
  },
  {
   "cell_type": "code",
   "execution_count": 9,
   "metadata": {},
   "outputs": [],
   "source": [
    "creator = ExecTreeCreator(CURSOR)"
   ]
  },
  {
   "cell_type": "code",
   "execution_count": 10,
   "metadata": {},
   "outputs": [],
   "source": [
    "#################################\n",
    "# FIRST EXPERIMENT\n",
    "# COMPARING NAVIGATION STRATEGIES WITHOUT PROVENANCE"
   ]
  },
  {
   "cell_type": "code",
   "execution_count": 11,
   "metadata": {},
   "outputs": [],
   "source": [
    "navs = [SingleStepping, TopDown, HeaviestFirst, DivideAndQuery] "
   ]
  },
  {
   "cell_type": "code",
   "execution_count": 12,
   "metadata": {},
   "outputs": [
    {
     "name": "stdout",
     "output_type": "stream",
     "text": [
      "SingleStepping experiment finished: 4 steps.\n",
      "TopDown experiment finished: 4 steps.\n",
      "HeaviestFirst experiment finished: 5 steps.\n",
      "DivideAndQuery experiment finished: 4 steps.\n"
     ]
    }
   ],
   "source": [
    "if RUN_1ST_EXPERIMENT:\n",
    "    for nav in navs:\n",
    "        exec_tree = None\n",
    "        exec_tree = creator.create_exec_tree()\n",
    "        nav_instance = nav(exec_tree, True, ANSWER_FILE_PATH)\n",
    "        nav_instance.navigate()\n",
    "        print(nav_instance.__class__.__name__+\" experiment finished: \"+str(nav_instance.sequence_num)+\" steps.\")\n",
    "        if GENERATE_TREES:\n",
    "            vis = Visualization(exec_tree)\n",
    "            vis.view_exec_tree(str(id(exec_tree)))\n",
    "    "
   ]
  },
  {
   "cell_type": "code",
   "execution_count": 13,
   "metadata": {},
   "outputs": [],
   "source": [
    "#################################\n",
    "# SECOND EXPERIMENT\n",
    "# COMPARING NAVIGATION STRATEGIES WITH PROVENANCE PRUNE, BUT WITHOUT ASKING WHICH OUTPUT DATA IS WRONG"
   ]
  },
  {
   "cell_type": "code",
   "execution_count": 14,
   "metadata": {},
   "outputs": [],
   "source": [
    "navs = [SingleStepping, TopDown, HeaviestFirst, DivideAndQuery] "
   ]
  },
  {
   "cell_type": "code",
   "execution_count": 15,
   "metadata": {},
   "outputs": [
    {
     "name": "stdout",
     "output_type": "stream",
     "text": [
      "SingleStepping experiment finished: 3 steps.\n",
      "TopDown experiment finished: 4 steps.\n",
      "HeaviestFirst experiment finished: 5 steps.\n",
      "DivideAndQuery experiment finished: 4 steps.\n"
     ]
    }
   ],
   "source": [
    "if RUN_2ND_EXPERIMENT:\n",
    "    for nav in navs:\n",
    "        exec_tree = None\n",
    "        exec_tree = creator.create_exec_tree()\n",
    "        prov = ProvenanceEnhancement(exec_tree, CURSOR)\n",
    "        prov.enhance_all()    \n",
    "        nav_instance = nav(exec_tree, True, ANSWER_FILE_PATH)\n",
    "        nav_instance.provenance_prune()\n",
    "        nav_instance.navigate()\n",
    "        print(nav_instance.__class__.__name__+\" experiment finished: \"+str(nav_instance.sequence_num)+\" steps.\")\n",
    "        if GENERATE_TREES:\n",
    "            vis = Visualization(exec_tree)\n",
    "            vis.view_exec_tree(str(id(exec_tree)))"
   ]
  },
  {
   "cell_type": "code",
   "execution_count": 16,
   "metadata": {},
   "outputs": [],
   "source": [
    "#################################\n",
    "# THIRD EXPERIMENT\n",
    "# COMPARING NAVIGATION STRATEGIES WITH PROVENANCE PRUNE, ASKING WHICH OUTPUT DATA IS WRONG"
   ]
  },
  {
   "cell_type": "code",
   "execution_count": 17,
   "metadata": {},
   "outputs": [],
   "source": [
    "navs = [SingleStepping, TopDown, HeaviestFirst, DivideAndQuery] "
   ]
  },
  {
   "cell_type": "code",
   "execution_count": 18,
   "metadata": {},
   "outputs": [
    {
     "name": "stdout",
     "output_type": "stream",
     "text": [
      "SingleStepping experiment finished: 3 steps.\n",
      "TopDown experiment finished: 3 steps.\n",
      "HeaviestFirst experiment finished: 5 steps.\n",
      "DivideAndQuery experiment finished: 3 steps.\n"
     ]
    }
   ],
   "source": [
    "if RUN_3RD_EXPERIMENT:\n",
    "    for nav in navs:\n",
    "        exec_tree = None\n",
    "        exec_tree = creator.create_exec_tree()\n",
    "        nav_instance = nav(exec_tree, True, ANSWER_FILE_PATH)\n",
    "        prov = ProvenanceEnhancement(exec_tree, CURSOR)\n",
    "        wrong_node_ev = exec_tree.search_by_ev_id(nav_instance.wrong_node_id)\n",
    "        prov.enhance(wrong_node_ev)    \n",
    "        nav_instance.provenance_prune()\n",
    "        nav_instance.navigate()\n",
    "        print(nav_instance.__class__.__name__+\" experiment finished: \"+str(nav_instance.sequence_num)+\" steps.\")\n",
    "        if GENERATE_TREES:\n",
    "            vis = Visualization(exec_tree)\n",
    "            vis.view_exec_tree(str(id(exec_tree)))"
   ]
  },
  {
   "cell_type": "code",
   "execution_count": null,
   "metadata": {},
   "outputs": [],
   "source": []
  }
 ],
 "metadata": {
  "kernelspec": {
   "display_name": "Python 3",
   "language": "python",
   "name": "python3"
  },
  "language_info": {
   "codemirror_mode": {
    "name": "ipython",
    "version": 3
   },
   "file_extension": ".py",
   "mimetype": "text/x-python",
   "name": "python",
   "nbconvert_exporter": "python",
   "pygments_lexer": "ipython3",
   "version": "3.5.6"
  }
 },
 "nbformat": 4,
 "nbformat_minor": 2
}
