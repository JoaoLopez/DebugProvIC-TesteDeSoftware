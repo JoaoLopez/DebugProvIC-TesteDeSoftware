{
 "cells": [
  {
   "cell_type": "code",
   "execution_count": 1,
   "metadata": {},
   "outputs": [],
   "source": [
    "#################################\n",
    "# FIRST EXPERIMENT\n",
    "# COMPARING NAVIGATION STRATEGIES WITHOUT PROVENANCE"
   ]
  },
  {
   "cell_type": "code",
   "execution_count": 2,
   "metadata": {},
   "outputs": [],
   "source": [
    "# Imports\n",
    "import sqlite3\n",
    "import time\n",
    "from graphviz import Graph\n",
    "\n",
    "from pyalgdb.validity import Validity \n",
    "from pyalgdb.node import Node\n",
    "from pyalgdb.provenance_enhancement import ProvenanceEnhancement\n",
    "from pyalgdb.execution_tree_creator import ExecTreeCreator\n",
    "from pyalgdb.top_down import TopDown\n",
    "from pyalgdb.heaviest_first import HeaviestFirst\n",
    "from pyalgdb.visualization import Visualization\n",
    "from pyalgdb.single_stepping import SingleStepping\n",
    "from pyalgdb.divide_and_query import DivideAndQuery"
   ]
  },
  {
   "cell_type": "code",
   "execution_count": 3,
   "metadata": {},
   "outputs": [],
   "source": [
    "EXAMPLE_NAME = 'age-avg'"
   ]
  },
  {
   "cell_type": "code",
   "execution_count": 4,
   "metadata": {},
   "outputs": [],
   "source": [
    "NOW2_SQLITE_PATH = 'C:/Users/linha/Desktop/ws/py-scripts-examples/' + EXAMPLE_NAME + '/.noworkflow/db.sqlite'"
   ]
  },
  {
   "cell_type": "code",
   "execution_count": 5,
   "metadata": {},
   "outputs": [],
   "source": [
    "ANSWER_FILE_PATH = 'aux_files/' + EXAMPLE_NAME + '-answers.json'"
   ]
  },
  {
   "cell_type": "code",
   "execution_count": 6,
   "metadata": {},
   "outputs": [],
   "source": [
    "GENERATE_TREES = True"
   ]
  },
  {
   "cell_type": "code",
   "execution_count": 7,
   "metadata": {},
   "outputs": [],
   "source": [
    "CURSOR = sqlite3.connect(NOW2_SQLITE_PATH).cursor()"
   ]
  },
  {
   "cell_type": "code",
   "execution_count": 8,
   "metadata": {},
   "outputs": [],
   "source": [
    "creator = ExecTreeCreator(CURSOR)\n",
    "navs = [SingleStepping, TopDown, HeaviestFirst, DivideAndQuery] "
   ]
  },
  {
   "cell_type": "code",
   "execution_count": 9,
   "metadata": {},
   "outputs": [
    {
     "name": "stdout",
     "output_type": "stream",
     "text": [
      "SingleStepping experiment finished: 30 steps.\n",
      "TopDown experiment finished: 9 steps.\n",
      "HeaviestFirst experiment finished: 8 steps.\n",
      "DivideAndQuery experiment finished: 7 steps.\n"
     ]
    }
   ],
   "source": [
    "for nav in navs:\n",
    "    exec_tree = None\n",
    "    exec_tree = creator.create_exec_tree()\n",
    "    nav_instance = nav(exec_tree, True, ANSWER_FILE_PATH)\n",
    "    nav_instance.navigate()\n",
    "    print(nav_instance.__class__.__name__+\" experiment finished: \"+str(nav_instance.sequence_num)+\" steps.\")\n",
    "    if GENERATE_TREES:\n",
    "        vis = Visualization(exec_tree)\n",
    "        vis.view_exec_tree(str(id(exec_tree)))\n",
    "    "
   ]
  },
  {
   "cell_type": "code",
   "execution_count": 10,
   "metadata": {},
   "outputs": [],
   "source": [
    "#################################\n",
    "# SECOND EXPERIMENT\n",
    "# COMPARING NAVIGATION STRATEGIES WITH PROVENANCE PRUNE"
   ]
  },
  {
   "cell_type": "code",
   "execution_count": 11,
   "metadata": {},
   "outputs": [],
   "source": [
    "creator = ExecTreeCreator(CURSOR)\n",
    "navs = [SingleStepping, TopDown, HeaviestFirst, DivideAndQuery] "
   ]
  },
  {
   "cell_type": "code",
   "execution_count": 12,
   "metadata": {},
   "outputs": [],
   "source": [
    "class CustomVisualization(Visualization):\n",
    "\n",
    "    PROVENANCE_COLOR = 'dodgerblue'\n",
    "    PROVENANCE_NODE_COLOR = 'lightblue'\n",
    "    PROV_PRUNED_NODE = 'grey55'\n",
    "    \n",
    "    def navigate(self, node:Node):\n",
    "        chds = node.childrens\n",
    "        for n in chds:\n",
    "            self.graph.edge(str(node.ev_id), str(n.ev_id), None, dir='forward')\n",
    "            if n.validity == Validity.INVALID:\n",
    "                self.graph.node(str(n.ev_id), str(n.get_name()), fillcolor=self.INVALID_COLOR, style='filled')\n",
    "            elif n.validity == Validity.VALID: \n",
    "                self.graph.node(str(n.ev_id), str(n.get_name()), fillcolor=self.VALID_COLOR, style='filled')\n",
    "            elif n.validity == Validity.UNKNOWN:  \n",
    "                self.graph.node(str(n.ev_id), str(n.get_name()))\n",
    "            elif n.validity is Validity.NOT_IN_PROV:\n",
    "                self.graph.node(str(n.ev_id), str(n.get_name()), fillcolor=self.PROV_PRUNED_NODE, style='filled')\n",
    "\n",
    "        if len(chds) > 0:\n",
    "            g = Graph()\n",
    "            for c in chds:\n",
    "                g.node(str(c.ev_id))\n",
    "            g.graph_attr['rank']='same'\n",
    "            self.graph.subgraph(g)\n",
    "\n",
    "        for n in chds: \n",
    "            self.navigate(n)\n"
   ]
  },
  {
   "cell_type": "code",
   "execution_count": 13,
   "metadata": {},
   "outputs": [
    {
     "name": "stdout",
     "output_type": "stream",
     "text": [
      "SingleStepping experiment finished: 11 steps.\n",
      "TopDown experiment finished: 9 steps.\n",
      "HeaviestFirst experiment finished: 7 steps.\n",
      "DivideAndQuery experiment finished: 6 steps.\n"
     ]
    }
   ],
   "source": [
    "for nav in navs:\n",
    "    \n",
    "    exec_tree = None\n",
    "    exec_tree = creator.create_exec_tree()\n",
    "    \n",
    "    prov = ProvenanceEnhancement(exec_tree, CURSOR)\n",
    "\n",
    "    prov.enhance_all()    \n",
    "        \n",
    "    nav_instance = nav(exec_tree, True, ANSWER_FILE_PATH)\n",
    "    nav_instance.provenance_prune()\n",
    "    nav_instance.navigate()\n",
    "    print(nav_instance.__class__.__name__+\" experiment finished: \"+str(nav_instance.sequence_num)+\" steps.\")\n",
    "    if GENERATE_TREES:\n",
    "        vis = CustomVisualization(exec_tree)\n",
    "        vis.view_exec_tree(str(id(exec_tree)))"
   ]
  },
  {
   "cell_type": "code",
   "execution_count": null,
   "metadata": {},
   "outputs": [],
   "source": []
  }
 ],
 "metadata": {
  "kernelspec": {
   "display_name": "Python 3",
   "language": "python",
   "name": "python3"
  },
  "language_info": {
   "codemirror_mode": {
    "name": "ipython",
    "version": 3
   },
   "file_extension": ".py",
   "mimetype": "text/x-python",
   "name": "python",
   "nbconvert_exporter": "python",
   "pygments_lexer": "ipython3",
   "version": "3.5.6"
  }
 },
 "nbformat": 4,
 "nbformat_minor": 2
}
