{
 "cells": [
  {
   "cell_type": "code",
   "execution_count": 23,
   "metadata": {},
   "outputs": [],
   "source": [
    "# Imports\n",
    "import sqlite3\n",
    "import time\n",
    "from pyalgdb.execution_tree_creator import ExecTreeCreator\n",
    "from pyalgdb.top_down import TopDown\n",
    "from pyalgdb.heaviest_first import HeaviestFirst\n",
    "from pyalgdb.visualization import Visualization\n",
    "from pyalgdb.provenance_enhancement import ProvenanceEnhancement \n",
    "from pyalgdb.single_stepping import SingleStepping\n",
    "from pyalgdb.divide_and_query import DivideAndQuery"
   ]
  },
  {
   "cell_type": "code",
   "execution_count": 24,
   "metadata": {},
   "outputs": [],
   "source": [
    "NOW2_SQLITE_PATH = 'C:/Users/linha/Desktop/ws/py-scripts-examples/min-max/.noworkflow/db.sqlite'"
   ]
  },
  {
   "cell_type": "code",
   "execution_count": 25,
   "metadata": {},
   "outputs": [],
   "source": [
    "CURSOR = sqlite3.connect(NOW2_SQLITE_PATH).cursor()"
   ]
  },
  {
   "cell_type": "code",
   "execution_count": 26,
   "metadata": {},
   "outputs": [],
   "source": [
    "creator = ExecTreeCreator(CURSOR)\n",
    "exec_tree = creator.create_exec_tree()"
   ]
  },
  {
   "cell_type": "code",
   "execution_count": 27,
   "metadata": {},
   "outputs": [],
   "source": [
    "prov = ProvenanceEnhancement(exec_tree, CURSOR)"
   ]
  },
  {
   "cell_type": "code",
   "execution_count": 28,
   "metadata": {},
   "outputs": [],
   "source": [
    "dependencies = prov.prov_tools.get_dependencies()\n",
    "prov.dependencies = dependencies"
   ]
  },
  {
   "cell_type": "code",
   "execution_count": 31,
   "metadata": {},
   "outputs": [
    {
     "name": "stdout",
     "output_type": "stream",
     "text": [
      "Which output data is not correct? 311\n"
     ]
    }
   ],
   "source": [
    "wrong_data = prov.ask_wrong_data()"
   ]
  },
  {
   "cell_type": "code",
   "execution_count": 32,
   "metadata": {},
   "outputs": [
    {
     "data": {
      "text/plain": [
       "<pyalgdb.evaluation.Evaluation at 0x2079af0cb38>"
      ]
     },
     "execution_count": 32,
     "metadata": {},
     "output_type": "execute_result"
    }
   ],
   "source": [
    "wrong_data"
   ]
  },
  {
   "cell_type": "code",
   "execution_count": 33,
   "metadata": {},
   "outputs": [],
   "source": [
    "prov.enhance(wrong_data)"
   ]
  },
  {
   "cell_type": "code",
   "execution_count": 34,
   "metadata": {},
   "outputs": [],
   "source": [
    "vis = Visualization(prov.exec_tree)"
   ]
  },
  {
   "cell_type": "code",
   "execution_count": 35,
   "metadata": {},
   "outputs": [
    {
     "name": "stderr",
     "output_type": "stream",
     "text": [
      "Error: Could not open \"exec_tree.gv.pdf\" for writing : Invalid argument\r\n"
     ]
    }
   ],
   "source": [
    "try:\n",
    "    vis.view_exec_tree_prov('exec_tree', prov.filtered_dependencies)\n",
    "except:\n",
    "    vis.view_exec_tree_prov(str(hash(prov.exec_tree)), prov.filtered_dependencies)"
   ]
  },
  {
   "cell_type": "code",
   "execution_count": null,
   "metadata": {},
   "outputs": [],
   "source": []
  }
 ],
 "metadata": {
  "kernelspec": {
   "display_name": "Python 3",
   "language": "python",
   "name": "python3"
  },
  "language_info": {
   "codemirror_mode": {
    "name": "ipython",
    "version": 3
   },
   "file_extension": ".py",
   "mimetype": "text/x-python",
   "name": "python",
   "nbconvert_exporter": "python",
   "pygments_lexer": "ipython3",
   "version": "3.5.6"
  }
 },
 "nbformat": 4,
 "nbformat_minor": 2
}
