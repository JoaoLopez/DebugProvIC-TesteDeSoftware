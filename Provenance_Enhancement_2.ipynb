{
 "cells": [
  {
   "cell_type": "code",
   "execution_count": 14,
   "metadata": {},
   "outputs": [],
   "source": [
    "# Imports\n",
    "import sqlite3\n",
    "import time\n",
    "from pyalgdb.execution_tree_creator import ExecTreeCreator\n",
    "from pyalgdb.top_down import TopDown\n",
    "from pyalgdb.heaviest_first import HeaviestFirst\n",
    "from pyalgdb.visualization import Visualization\n",
    "from pyalgdb.provenance_enhancement import ProvenanceEnhancement \n",
    "from pyalgdb.single_stepping import SingleStepping\n",
    "from pyalgdb.divide_and_query import DivideAndQuery"
   ]
  },
  {
   "cell_type": "code",
   "execution_count": 15,
   "metadata": {},
   "outputs": [],
   "source": [
    "NOW2_SQLITE_PATH = 'C:/Users/linha/Desktop/ws/py-scripts-examples/min-max/.noworkflow/db.sqlite'"
   ]
  },
  {
   "cell_type": "code",
   "execution_count": 16,
   "metadata": {},
   "outputs": [],
   "source": [
    "CURSOR = sqlite3.connect(NOW2_SQLITE_PATH).cursor()"
   ]
  },
  {
   "cell_type": "code",
   "execution_count": 17,
   "metadata": {},
   "outputs": [],
   "source": [
    "creator = ExecTreeCreator(CURSOR)\n",
    "exec_tree = creator.create_exec_tree()"
   ]
  },
  {
   "cell_type": "code",
   "execution_count": 18,
   "metadata": {},
   "outputs": [],
   "source": [
    "prov = ProvenanceEnhancement(exec_tree, CURSOR)"
   ]
  },
  {
   "cell_type": "code",
   "execution_count": 19,
   "metadata": {},
   "outputs": [],
   "source": [
    "dependencies = prov.prov_tools.get_dependencies()\n",
    "prov.dependencies = dependencies"
   ]
  },
  {
   "cell_type": "code",
   "execution_count": 20,
   "metadata": {},
   "outputs": [
    {
     "name": "stdout",
     "output_type": "stream",
     "text": [
      "Which output data is not correct? 311\n"
     ]
    }
   ],
   "source": [
    "wrong_data = prov.ask_wrong_data()"
   ]
  },
  {
   "cell_type": "code",
   "execution_count": 21,
   "metadata": {},
   "outputs": [
    {
     "data": {
      "text/plain": [
       "<pyalgdb.evaluation.Evaluation at 0x22c871a7e48>"
      ]
     },
     "execution_count": 21,
     "metadata": {},
     "output_type": "execute_result"
    }
   ],
   "source": [
    "wrong_data"
   ]
  },
  {
   "cell_type": "code",
   "execution_count": 22,
   "metadata": {},
   "outputs": [],
   "source": [
    "prov.enhance(wrong_data)"
   ]
  },
  {
   "cell_type": "code",
   "execution_count": 23,
   "metadata": {},
   "outputs": [],
   "source": [
    "vis = Visualization(prov.exec_tree)"
   ]
  },
  {
   "cell_type": "code",
   "execution_count": 26,
   "metadata": {},
   "outputs": [],
   "source": [
    "vis.view_exec_tree_prov('exec_tree', prov.filtered_dependencies)"
   ]
  },
  {
   "cell_type": "code",
   "execution_count": 25,
   "metadata": {},
   "outputs": [
    {
     "data": {
      "text/plain": [
       "[<pyalgdb.dependency_rel.DependencyRel at 0x22c871d1f28>,\n",
       " <pyalgdb.dependency_rel.DependencyRel at 0x22c871d30b8>,\n",
       " <pyalgdb.dependency_rel.DependencyRel at 0x22c871d3208>,\n",
       " <pyalgdb.dependency_rel.DependencyRel at 0x22c871d32b0>,\n",
       " <pyalgdb.dependency_rel.DependencyRel at 0x22c871d3358>,\n",
       " <pyalgdb.dependency_rel.DependencyRel at 0x22c871d3898>,\n",
       " <pyalgdb.dependency_rel.DependencyRel at 0x22c871d3940>,\n",
       " <pyalgdb.dependency_rel.DependencyRel at 0x22c871d3a90>,\n",
       " <pyalgdb.dependency_rel.DependencyRel at 0x22c871d50b8>,\n",
       " <pyalgdb.dependency_rel.DependencyRel at 0x22c871d52b0>,\n",
       " <pyalgdb.dependency_rel.DependencyRel at 0x22c871d3b38>,\n",
       " <pyalgdb.dependency_rel.DependencyRel at 0x22c871d50b8>,\n",
       " <pyalgdb.dependency_rel.DependencyRel at 0x22c871d52b0>,\n",
       " <pyalgdb.dependency_rel.DependencyRel at 0x22c871d39e8>,\n",
       " <pyalgdb.dependency_rel.DependencyRel at 0x22c871d3a90>,\n",
       " <pyalgdb.dependency_rel.DependencyRel at 0x22c871d50b8>,\n",
       " <pyalgdb.dependency_rel.DependencyRel at 0x22c871d52b0>,\n",
       " <pyalgdb.dependency_rel.DependencyRel at 0x22c871d3b38>,\n",
       " <pyalgdb.dependency_rel.DependencyRel at 0x22c871d50b8>,\n",
       " <pyalgdb.dependency_rel.DependencyRel at 0x22c871d52b0>,\n",
       " <pyalgdb.dependency_rel.DependencyRel at 0x22c871d3be0>,\n",
       " <pyalgdb.dependency_rel.DependencyRel at 0x22c871d3c88>,\n",
       " <pyalgdb.dependency_rel.DependencyRel at 0x22c871d3dd8>,\n",
       " <pyalgdb.dependency_rel.DependencyRel at 0x22c871d5160>,\n",
       " <pyalgdb.dependency_rel.DependencyRel at 0x22c871d52b0>,\n",
       " <pyalgdb.dependency_rel.DependencyRel at 0x22c871d3e80>,\n",
       " <pyalgdb.dependency_rel.DependencyRel at 0x22c871d5160>,\n",
       " <pyalgdb.dependency_rel.DependencyRel at 0x22c871d52b0>,\n",
       " <pyalgdb.dependency_rel.DependencyRel at 0x22c871d3d30>,\n",
       " <pyalgdb.dependency_rel.DependencyRel at 0x22c871d3dd8>,\n",
       " <pyalgdb.dependency_rel.DependencyRel at 0x22c871d5160>,\n",
       " <pyalgdb.dependency_rel.DependencyRel at 0x22c871d52b0>,\n",
       " <pyalgdb.dependency_rel.DependencyRel at 0x22c871d3e80>,\n",
       " <pyalgdb.dependency_rel.DependencyRel at 0x22c871d5160>,\n",
       " <pyalgdb.dependency_rel.DependencyRel at 0x22c871d52b0>,\n",
       " <pyalgdb.dependency_rel.DependencyRel at 0x22c871d3f28>,\n",
       " <pyalgdb.dependency_rel.DependencyRel at 0x22c871d52b0>]"
      ]
     },
     "execution_count": 25,
     "metadata": {},
     "output_type": "execute_result"
    }
   ],
   "source": [
    "prov.filtered_dependencies"
   ]
  },
  {
   "cell_type": "code",
   "execution_count": null,
   "metadata": {},
   "outputs": [],
   "source": []
  }
 ],
 "metadata": {
  "kernelspec": {
   "display_name": "Python 3",
   "language": "python",
   "name": "python3"
  },
  "language_info": {
   "codemirror_mode": {
    "name": "ipython",
    "version": 3
   },
   "file_extension": ".py",
   "mimetype": "text/x-python",
   "name": "python",
   "nbconvert_exporter": "python",
   "pygments_lexer": "ipython3",
   "version": "3.5.6"
  }
 },
 "nbformat": 4,
 "nbformat_minor": 2
}
