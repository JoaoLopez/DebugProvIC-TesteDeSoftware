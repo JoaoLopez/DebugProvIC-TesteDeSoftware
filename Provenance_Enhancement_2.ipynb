{
 "cells": [
  {
   "cell_type": "markdown",
   "metadata": {},
   "source": [
    "### This notebook presents an execution tree enhanced with provenance.\n",
    "### In this view, the nodes that are not function calls are removed "
   ]
  },
  {
   "cell_type": "code",
   "execution_count": 1,
   "metadata": {},
   "outputs": [],
   "source": [
    "# Imports\n",
    "import sqlite3\n",
    "\n",
    "from graphviz import Graph\n",
    "\n",
    "from pyalgdb.validity import Validity\n",
    "from pyalgdb.node import Node\n",
    "from pyalgdb.execution_tree import ExecutionTree\n",
    "from pyalgdb.execution_tree_creator import ExecTreeCreator\n",
    "from pyalgdb.top_down import TopDown\n",
    "from pyalgdb.heaviest_first import HeaviestFirst\n",
    "from pyalgdb.visualization import Visualization\n",
    "from pyalgdb.provenance_enhancement import ProvenanceEnhancement \n",
    "from pyalgdb.single_stepping import SingleStepping\n",
    "from pyalgdb.divide_and_query import DivideAndQuery"
   ]
  },
  {
   "cell_type": "code",
   "execution_count": 2,
   "metadata": {},
   "outputs": [],
   "source": [
    "NOW2_SQLITE_PATH = 'C:/Users/linha/Desktop/ws/py-scripts-examples/min-max/.noworkflow/db.sqlite'"
   ]
  },
  {
   "cell_type": "code",
   "execution_count": 3,
   "metadata": {},
   "outputs": [],
   "source": [
    "CURSOR = sqlite3.connect(NOW2_SQLITE_PATH).cursor()"
   ]
  },
  {
   "cell_type": "code",
   "execution_count": 4,
   "metadata": {},
   "outputs": [],
   "source": [
    "creator = ExecTreeCreator(CURSOR)\n",
    "exec_tree = creator.create_exec_tree()"
   ]
  },
  {
   "cell_type": "code",
   "execution_count": 5,
   "metadata": {},
   "outputs": [],
   "source": [
    "prov = ProvenanceEnhancement(exec_tree, CURSOR)"
   ]
  },
  {
   "cell_type": "code",
   "execution_count": 6,
   "metadata": {},
   "outputs": [],
   "source": [
    "# Perform the provenance enhancement, having as \"start set\" all nodes that are function calls\n",
    "prov.enhance_all()"
   ]
  },
  {
   "cell_type": "code",
   "execution_count": 7,
   "metadata": {},
   "outputs": [],
   "source": [
    "class CustomVisualization(Visualization):\n",
    "\n",
    "    # CUSTOM ATTRIBUTES\n",
    "    PROVENANCE_NODE_COLOR = 'lightblue'\n",
    "    \n",
    "    def generate_exec_tree(self, graph_name = 'exec_tree'):\n",
    "        file_name = \"{}.gv\".format(graph_name)\n",
    "        self.graph = Graph(graph_name, filename=file_name)\n",
    "        self.graph.attr('node', shape='box')\n",
    "        self.graph.attr('graph', ordering='out')\n",
    "        root_node = self.exec_tree.root_node\n",
    "        self.graph.node(str(root_node.ev_id), root_node.get_name(), fillcolor=self.INVALID_COLOR, style='filled') # root node\n",
    "        self.navigate(root_node)\n",
    "        eval_node = self.exec_tree.node_under_evaluation\n",
    "        if eval_node is not None:\n",
    "            self.graph.node(str(eval_node.ev_id), str(eval_node.get_name()), fillcolor=self.NODE_IN_EVALUATION, style='filled')\n",
    "        buggy_node = self.exec_tree.buggy_node\n",
    "        if buggy_node is not None:\n",
    "            self.graph.node(str(buggy_node.ev_id), str(buggy_node.get_name()), fillcolor=self.BUGGY_NODE_COLOR, style='filled')\n",
    "        if self.exec_tree.dependencies is not None:\n",
    "            for d in self.exec_tree.dependencies: # this loop draws the provenance links between nodes\n",
    "                self.graph.edge(str(d.dependent.ev_id), str(d.influencer.ev_id), None, color=self.PROVENANCE_COLOR, dir='forward')\n",
    "                ## BEGIN customization\n",
    "                self.graph.node(str(d.dependent.ev_id), None, fillcolor=self.PROVENANCE_NODE_COLOR, style='filled')\n",
    "                self.graph.node(str(d.influencer.ev_id), None, fillcolor=self.PROVENANCE_NODE_COLOR, style='filled')\n",
    "                ## END customization\n",
    "    \n",
    "    "
   ]
  },
  {
   "cell_type": "code",
   "execution_count": 8,
   "metadata": {},
   "outputs": [],
   "source": [
    "vis = CustomVisualization(prov.exec_tree)"
   ]
  },
  {
   "cell_type": "code",
   "execution_count": 9,
   "metadata": {},
   "outputs": [],
   "source": [
    "vis.view_exec_tree('exec_tree_p1')"
   ]
  },
  {
   "cell_type": "code",
   "execution_count": 10,
   "metadata": {},
   "outputs": [],
   "source": [
    "######################################################################################################################"
   ]
  },
  {
   "cell_type": "markdown",
   "metadata": {},
   "source": [
    "### The following cells presents an execution tree enhanced with provenance.\n",
    "### In this view, the wrong Evaluation is asked, and the provenance DAG is built based on the slice of the wrong evaluation. "
   ]
  },
  {
   "cell_type": "code",
   "execution_count": 11,
   "metadata": {},
   "outputs": [],
   "source": [
    "exec_tree = creator.create_exec_tree()"
   ]
  },
  {
   "cell_type": "code",
   "execution_count": 12,
   "metadata": {},
   "outputs": [],
   "source": [
    "prov = ProvenanceEnhancement(exec_tree, CURSOR)"
   ]
  },
  {
   "cell_type": "code",
   "execution_count": 13,
   "metadata": {},
   "outputs": [
    {
     "name": "stdout",
     "output_type": "stream",
     "text": [
      "Which evaluation id is not correct? 132\n"
     ]
    }
   ],
   "source": [
    "wrong_data = prov.ask_wrong_data()"
   ]
  },
  {
   "cell_type": "code",
   "execution_count": 14,
   "metadata": {},
   "outputs": [
    {
     "data": {
      "text/plain": [
       "<pyalgdb.evaluation.Evaluation at 0x269e295ed30>"
      ]
     },
     "execution_count": 14,
     "metadata": {},
     "output_type": "execute_result"
    }
   ],
   "source": [
    "wrong_data"
   ]
  },
  {
   "cell_type": "code",
   "execution_count": 16,
   "metadata": {},
   "outputs": [
    {
     "data": {
      "text/plain": [
       "7"
      ]
     },
     "execution_count": 16,
     "metadata": {},
     "output_type": "execute_result"
    }
   ],
   "source": [
    "len(exec_tree.dependencies)"
   ]
  },
  {
   "cell_type": "code",
   "execution_count": 17,
   "metadata": {},
   "outputs": [],
   "source": [
    "vis = CustomVisualization(prov.exec_tree)"
   ]
  },
  {
   "cell_type": "code",
   "execution_count": 18,
   "metadata": {},
   "outputs": [],
   "source": [
    "vis.view_exec_tree('exec_tree_p2')"
   ]
  },
  {
   "cell_type": "code",
   "execution_count": null,
   "metadata": {},
   "outputs": [],
   "source": []
  }
 ],
 "metadata": {
  "kernelspec": {
   "display_name": "Python 3",
   "language": "python",
   "name": "python3"
  },
  "language_info": {
   "codemirror_mode": {
    "name": "ipython",
    "version": 3
   },
   "file_extension": ".py",
   "mimetype": "text/x-python",
   "name": "python",
   "nbconvert_exporter": "python",
   "pygments_lexer": "ipython3",
   "version": "3.5.6"
  }
 },
 "nbformat": 4,
 "nbformat_minor": 2
}
