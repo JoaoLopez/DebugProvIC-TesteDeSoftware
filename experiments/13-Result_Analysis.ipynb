{
 "cells": [
  {
   "cell_type": "markdown",
   "metadata": {},
   "source": [
    "## Importing Files"
   ]
  },
  {
   "cell_type": "code",
   "execution_count": 1,
   "metadata": {},
   "outputs": [],
   "source": [
    "import matplotlib.pyplot as plt\n",
    "import pandas as pd\n",
    "import os"
   ]
  },
  {
   "cell_type": "code",
   "execution_count": 5,
   "metadata": {},
   "outputs": [
    {
     "ename": "FileExistsError",
     "evalue": "[WinError 183] Não é possível criar um arquivo já existente: 'analysis'",
     "output_type": "error",
     "traceback": [
      "\u001b[1;31m---------------------------------------------------------------------------\u001b[0m",
      "\u001b[1;31mFileExistsError\u001b[0m                           Traceback (most recent call last)",
      "\u001b[1;32m<ipython-input-5-b02edb5f5b62>\u001b[0m in \u001b[0;36m<module>\u001b[1;34m\u001b[0m\n\u001b[0;32m     15\u001b[0m \u001b[0mos\u001b[0m\u001b[1;33m.\u001b[0m\u001b[0mchdir\u001b[0m\u001b[1;33m(\u001b[0m\u001b[1;34m'..'\u001b[0m\u001b[1;33m)\u001b[0m\u001b[1;33m\u001b[0m\u001b[1;33m\u001b[0m\u001b[0m\n\u001b[0;32m     16\u001b[0m \u001b[1;33m\u001b[0m\u001b[0m\n\u001b[1;32m---> 17\u001b[1;33m \u001b[0mos\u001b[0m\u001b[1;33m.\u001b[0m\u001b[0mmkdir\u001b[0m\u001b[1;33m(\u001b[0m\u001b[1;34m'analysis'\u001b[0m\u001b[1;33m)\u001b[0m\u001b[1;33m\u001b[0m\u001b[1;33m\u001b[0m\u001b[0m\n\u001b[0m\u001b[0;32m     18\u001b[0m \u001b[0mos\u001b[0m\u001b[1;33m.\u001b[0m\u001b[0mmkdir\u001b[0m\u001b[1;33m(\u001b[0m\u001b[1;34m'analysis/by_navigation_strategy'\u001b[0m\u001b[1;33m)\u001b[0m\u001b[1;33m\u001b[0m\u001b[1;33m\u001b[0m\u001b[0m\n\u001b[0;32m     19\u001b[0m \u001b[1;33m\u001b[0m\u001b[0m\n",
      "\u001b[1;31mFileExistsError\u001b[0m: [WinError 183] Não é possível criar um arquivo já existente: 'analysis'"
     ]
    }
   ],
   "source": [
    "df = []\n",
    "\n",
    "os.chdir('../..')\n",
    "os.chdir('debugprov-experimentdata')\n",
    "os.chdir('excel_processing')\n",
    "os.chdir('excel_files')\n",
    "\n",
    "programs = {}\n",
    "\n",
    "for excel_file in os.listdir():\n",
    "    programs[excel_file[:-5]] = pd.read_excel(excel_file) \n",
    "    data = pd.read_excel(excel_file)\n",
    "    df.append(data)\n",
    "\n",
    "os.chdir('..')\n",
    "\n",
    "os.mkdir('analysis')\n",
    "os.mkdir('analysis/by_navigation_strategy')\n",
    "\n",
    "\n",
    "df = pd.concat(df)\n",
    "#print(df['Subject'])"
   ]
  },
  {
   "cell_type": "code",
   "execution_count": 6,
   "metadata": {},
   "outputs": [],
   "source": [
    "single_stepping = \"Single Stepping\"\n",
    "top_down = \"Top Down\"\n",
    "heaviest_first = \"Heaviest First\"\n",
    "divide_and_query = \"Divide and Query\"\n",
    "\n",
    "single_stepping_prov = \"Single Stepping PROV\"\n",
    "top_down_prov = \"Top Down PROV\"\n",
    "heaviest_first_prov = \"Heaviest First PROV\"\n",
    "divide_and_query_prov = \"Divide and Query PROV\"\n",
    "\n",
    "NavigationStrategies = [single_stepping,top_down,heaviest_first,divide_and_query,\n",
    "                        single_stepping_prov,top_down_prov,heaviest_first_prov,divide_and_query_prov]"
   ]
  },
  {
   "cell_type": "markdown",
   "metadata": {},
   "source": [
    "## Searching for executions that the buggy node was not correct "
   ]
  },
  {
   "cell_type": "code",
   "execution_count": null,
   "metadata": {},
   "outputs": [],
   "source": [
    "# Strategy 1 : Include all executions to analysis even when the found buggy node was not the expected buggy node\n",
    "# Strategy 2 : Exclude the entire subject when in a single execution the found buggy node was not the expected buggy node \n",
    "#              (Strategy 2 allows paired analysis)\n",
    "# Strategy 3: Exclude a single execution when the found buggy node was not the expected buggy node \n",
    "#             (Strategy 3 DOES NOT allows paired analysis)\n",
    "\n",
    "strategy = 1"
   ]
  },
  {
   "cell_type": "code",
   "execution_count": null,
   "metadata": {},
   "outputs": [],
   "source": [
    "stored = 0\n",
    "discarted = 0\n",
    "if strategy == 1:\n",
    "    pass\n",
    "elif strategy == 2:\n",
    "    selecteds = []\n",
    "    for index, row in df.iterrows():\n",
    "        expected_buggy_node = row['Expected Buggy Node'] \n",
    "        discart = False\n",
    "        for nav in NavigationStrategies:\n",
    "            #print(row['Subject'],expected_buggy_node,row[nav + ' Buggy Node Found'])\n",
    "            #print(int(expected_buggy_node),int(row[nav + ' Buggy Node Found']))\n",
    "            if int(expected_buggy_node) != int(row[nav + ' Buggy Node Found']):\n",
    "                discart = True\n",
    "        if not discart:\n",
    "            stored += 1\n",
    "            selecteds.append(row)\n",
    "        else:\n",
    "            print(row)\n",
    "            discarted += 1\n",
    "    df = pd.DataFrame(selecteds)\n",
    "elif strategy == 3:\n",
    "    pass\n",
    "\n",
    "print(stored,discarted)"
   ]
  },
  {
   "cell_type": "code",
   "execution_count": null,
   "metadata": {},
   "outputs": [],
   "source": [
    "len(df)"
   ]
  },
  {
   "cell_type": "markdown",
   "metadata": {},
   "source": [
    "## Generalized Analysis"
   ]
  },
  {
   "cell_type": "code",
   "execution_count": null,
   "metadata": {},
   "outputs": [],
   "source": [
    "without_prov = []\n",
    "with_prov = []"
   ]
  },
  {
   "cell_type": "code",
   "execution_count": null,
   "metadata": {},
   "outputs": [],
   "source": [
    "for t in df[single_stepping]:\n",
    "    without_prov.append(t)\n",
    "for t in df[top_down]:\n",
    "    without_prov.append(t)\n",
    "for t in df[heaviest_first]:\n",
    "    without_prov.append(t)\n",
    "for t in df[divide_and_query]:\n",
    "    without_prov.append(t)\n",
    "\n",
    "for t in df[single_stepping_prov]:\n",
    "    with_prov.append(t)\n",
    "for t in df[top_down_prov]:\n",
    "    with_prov.append(t)\n",
    "for t in df[heaviest_first_prov]:\n",
    "    with_prov.append(t)\n",
    "for t in df[divide_and_query_prov]:\n",
    "    with_prov.append(t)\n",
    "    "
   ]
  },
  {
   "cell_type": "code",
   "execution_count": null,
   "metadata": {},
   "outputs": [],
   "source": [
    "len(without_prov)"
   ]
  },
  {
   "cell_type": "code",
   "execution_count": null,
   "metadata": {},
   "outputs": [],
   "source": [
    "len(with_prov)"
   ]
  },
  {
   "cell_type": "code",
   "execution_count": null,
   "metadata": {},
   "outputs": [],
   "source": [
    "data_frame = pd.DataFrame({\n",
    "            'without_prov': without_prov,\n",
    "            'with_prov': with_prov,\n",
    "})\n",
    "data_frame.to_excel('analysis/generalized_analysis.xlsx') "
   ]
  },
  {
   "cell_type": "code",
   "execution_count": null,
   "metadata": {},
   "outputs": [],
   "source": [
    "data_frame.boxplot()"
   ]
  },
  {
   "cell_type": "code",
   "execution_count": null,
   "metadata": {},
   "outputs": [],
   "source": [
    "plt.boxplot([without_prov,with_prov],showfliers=False,labels=['w/o Prov. Enhancement','w/ Prov. Enhancement'])\n",
    "plt.savefig('analysis/generalized_analysis.pdf')"
   ]
  },
  {
   "cell_type": "code",
   "execution_count": null,
   "metadata": {},
   "outputs": [],
   "source": [
    "print(\"Improvement: {}\".format((sum(without_prov) - sum(with_prov)) / sum(without_prov)))"
   ]
  },
  {
   "cell_type": "markdown",
   "metadata": {},
   "source": [
    "## Analysis by navigation strategy"
   ]
  },
  {
   "cell_type": "code",
   "execution_count": null,
   "metadata": {},
   "outputs": [],
   "source": [
    "r_single_stepping = []\n",
    "r_single_stepping_prov = []\n",
    "\n",
    "r_top_down = []\n",
    "r_top_down_prov = []\n",
    "\n",
    "r_heaviest_first = []\n",
    "r_heaviest_first_prov = []\n",
    "\n",
    "r_divide_and_query = []\n",
    "r_divide_and_query_prov = []"
   ]
  },
  {
   "cell_type": "code",
   "execution_count": null,
   "metadata": {},
   "outputs": [],
   "source": [
    "for t in df[single_stepping]:\n",
    "    r_single_stepping.append(t)\n",
    "    \n",
    "for t in df[single_stepping_prov]:\n",
    "    r_single_stepping_prov.append(t)\n",
    "\n",
    "for t in df[top_down]:\n",
    "    r_top_down.append(t)\n",
    "    \n",
    "for t in df[top_down_prov]:\n",
    "    r_top_down_prov.append(t)\n",
    "\n",
    "for t in df[heaviest_first]:\n",
    "    r_heaviest_first.append(t)\n",
    "    \n",
    "for t in df[heaviest_first_prov]:\n",
    "    r_heaviest_first_prov.append(t)\n",
    "    \n",
    "for t in df[divide_and_query]:\n",
    "    r_divide_and_query.append(t)\n",
    "    \n",
    "for t in df[divide_and_query_prov]:\n",
    "    r_divide_and_query_prov.append(t)"
   ]
  },
  {
   "cell_type": "markdown",
   "metadata": {},
   "source": [
    "### Single Stepping"
   ]
  },
  {
   "cell_type": "code",
   "execution_count": null,
   "metadata": {},
   "outputs": [],
   "source": [
    "plt.boxplot([r_single_stepping,r_single_stepping_prov],showfliers=False,labels=['w/o Prov. Enhancement','w/ Prov. Enhancement'])\n",
    "plt.title(single_stepping)\n",
    "plt.savefig('analysis/by_navigation_strategy/single_stepping.pdf')"
   ]
  },
  {
   "cell_type": "code",
   "execution_count": null,
   "metadata": {},
   "outputs": [],
   "source": [
    "single_stepping_data_frame = pd.DataFrame({\n",
    "            'without_prov': r_single_stepping,\n",
    "            'with_prov': r_single_stepping_prov,\n",
    "})\n",
    "single_stepping_data_frame.to_excel('analysis/by_navigation_strategy/single_stepping.xlsx') "
   ]
  },
  {
   "cell_type": "code",
   "execution_count": null,
   "metadata": {},
   "outputs": [],
   "source": [
    "print(\"Single Stepping Improvement: {}\".format((sum(r_single_stepping) - sum(r_single_stepping_prov)) / sum(r_single_stepping)))"
   ]
  },
  {
   "cell_type": "markdown",
   "metadata": {},
   "source": [
    "### Top Down"
   ]
  },
  {
   "cell_type": "code",
   "execution_count": null,
   "metadata": {},
   "outputs": [],
   "source": [
    "plt.boxplot([r_top_down,r_top_down_prov],showfliers=False,labels=['w/o Prov. Enhancement','w/ Prov. Enhancement'])\n",
    "plt.title(top_down)\n",
    "plt.savefig('analysis/by_navigation_strategy/top_down.pdf')"
   ]
  },
  {
   "cell_type": "code",
   "execution_count": null,
   "metadata": {},
   "outputs": [],
   "source": [
    "top_down_data_frame = pd.DataFrame({\n",
    "            'without_prov': r_top_down,\n",
    "            'with_prov': r_top_down_prov,\n",
    "})\n",
    "top_down_data_frame.to_excel('analysis/by_navigation_strategy/top_down.xlsx') "
   ]
  },
  {
   "cell_type": "code",
   "execution_count": null,
   "metadata": {},
   "outputs": [],
   "source": [
    "print(\"Top Down Improvement: {}\".format((sum(r_top_down) - sum(r_top_down_prov)) / sum(r_top_down)))"
   ]
  },
  {
   "cell_type": "markdown",
   "metadata": {},
   "source": [
    "### Heaviest First"
   ]
  },
  {
   "cell_type": "code",
   "execution_count": null,
   "metadata": {},
   "outputs": [],
   "source": [
    "plt.boxplot([r_heaviest_first,r_heaviest_first_prov],showfliers=False,labels=['w/o Prov. Enhancement','w/ Prov. Enhancement'])\n",
    "plt.title(heaviest_first)\n",
    "plt.savefig('analysis/by_navigation_strategy/heaviest_first.pdf')"
   ]
  },
  {
   "cell_type": "code",
   "execution_count": null,
   "metadata": {},
   "outputs": [],
   "source": [
    "heaviest_first_data_frame = pd.DataFrame({\n",
    "            'without_prov': r_heaviest_first,\n",
    "            'with_prov': r_heaviest_first_prov,\n",
    "})\n",
    "heaviest_first_data_frame.to_excel('analysis/by_navigation_strategy/heaviest_first.xlsx') "
   ]
  },
  {
   "cell_type": "code",
   "execution_count": null,
   "metadata": {},
   "outputs": [],
   "source": [
    "print(\"Heaviest First Improvement: {}\".format((sum(r_heaviest_first) - sum(r_heaviest_first_prov)) / sum(r_heaviest_first)))"
   ]
  },
  {
   "cell_type": "markdown",
   "metadata": {},
   "source": [
    "### Divide and Query"
   ]
  },
  {
   "cell_type": "code",
   "execution_count": null,
   "metadata": {},
   "outputs": [],
   "source": [
    "plt.boxplot([r_divide_and_query,r_divide_and_query_prov],showfliers=False,labels=['w/o Prov. Enhancement','w/ Prov. Enhancement'])\n",
    "plt.title(divide_and_query)\n",
    "plt.savefig('analysis/by_navigation_strategy/divide_and_query.pdf')"
   ]
  },
  {
   "cell_type": "code",
   "execution_count": null,
   "metadata": {},
   "outputs": [],
   "source": [
    "divide_and_query_data_frame = pd.DataFrame({\n",
    "            'without_prov': r_divide_and_query,\n",
    "            'with_prov': r_divide_and_query_prov,\n",
    "})\n",
    "divide_and_query_data_frame.to_excel('analysis/by_navigation_strategy/divide_and_query.xlsx') "
   ]
  },
  {
   "cell_type": "code",
   "execution_count": null,
   "metadata": {},
   "outputs": [],
   "source": [
    "print(\"Divide and Query Improvement: {}\".format((sum(r_divide_and_query) - sum(r_divide_and_query_prov)) / sum(r_divide_and_query)))"
   ]
  },
  {
   "cell_type": "markdown",
   "metadata": {},
   "source": [
    "## Analysis by Program"
   ]
  },
  {
   "cell_type": "code",
   "execution_count": 12,
   "metadata": {},
   "outputs": [
    {
     "name": "stdout",
     "output_type": "stream",
     "text": [
      "02-bisection,71,24416,24031,0.01576834862385321\n",
      "03-intersection,40,6609,5294,0.19897110001513088\n",
      "04-lu_decomposition,55,4633,990,0.7863155622706669\n",
      "05-newton_method,15,389,321,0.17480719794344474\n",
      "07-basic_binary_tree,5,286,244,0.14685314685314685\n",
      "09-dijkstra_algorithm,92,24146,4755,0.8030729727491096\n",
      "13-merge_sort,3,30,24,0.2\n",
      "17-merge_intervals,28,794,276,0.6523929471032746\n",
      "19-binary_search,17,136,112,0.17647058823529413\n",
      "20-permute,2,94,82,0.1276595744680851\n",
      "21-longest_common_subsequence,8,96,96,0.0\n",
      "22-catalan,5,42,40,0.047619047619047616\n",
      "24-bubblesort,51,408,204,0.5\n",
      "25-quicksort,10,414,40,0.9033816425120773\n",
      "26-heapsort,56,11708,8054,0.31209429449948756\n"
     ]
    }
   ],
   "source": [
    "num_of_mutants = 0\n",
    "total_of_questions_without_prov = 0\n",
    "total_of_questions_with_prov = 0\n",
    "\n",
    "for p in programs:\n",
    "    program_without_prov = sum(programs[p][single_stepping]) + sum(programs[p][top_down]) + sum(programs[p][heaviest_first]) + sum(programs[p][divide_and_query]) \n",
    "    program_with_prov = sum(programs[p][single_stepping_prov]) + sum(programs[p][top_down_prov]) + sum(programs[p][heaviest_first_prov]) + sum(programs[p][divide_and_query_prov]) \n",
    "    reduction = (program_without_prov - program_with_prov) / program_without_prov\n",
    "    print('{},{},{},{},{}'.format(p,len(programs[p]),program_without_prov,program_with_prov,reduction))\n",
    "    num_of_mutants += len(programs[p])\n",
    "    total_of_questions_without_prov += program_without_prov\n",
    "    total_of_questions_with_prov += program_with_prov\n",
    "    "
   ]
  },
  {
   "cell_type": "code",
   "execution_count": 13,
   "metadata": {},
   "outputs": [
    {
     "data": {
      "text/plain": [
       "458"
      ]
     },
     "execution_count": 13,
     "metadata": {},
     "output_type": "execute_result"
    }
   ],
   "source": [
    "num_of_mutants"
   ]
  },
  {
   "cell_type": "code",
   "execution_count": 14,
   "metadata": {},
   "outputs": [
    {
     "data": {
      "text/plain": [
       "74201"
      ]
     },
     "execution_count": 14,
     "metadata": {},
     "output_type": "execute_result"
    }
   ],
   "source": [
    "total_of_questions_without_prov"
   ]
  },
  {
   "cell_type": "code",
   "execution_count": 15,
   "metadata": {},
   "outputs": [
    {
     "data": {
      "text/plain": [
       "44563"
      ]
     },
     "execution_count": 15,
     "metadata": {},
     "output_type": "execute_result"
    }
   ],
   "source": [
    "total_of_questions_with_prov"
   ]
  },
  {
   "cell_type": "code",
   "execution_count": 16,
   "metadata": {},
   "outputs": [
    {
     "name": "stdout",
     "output_type": "stream",
     "text": [
      "reduction: 0.39942857912966134\n"
     ]
    }
   ],
   "source": [
    "print('reduction: {}'.format((total_of_questions_without_prov-total_of_questions_with_prov)/total_of_questions_without_prov))"
   ]
  },
  {
   "cell_type": "code",
   "execution_count": null,
   "metadata": {},
   "outputs": [],
   "source": []
  }
 ],
 "metadata": {
  "kernelspec": {
   "display_name": "Python 3",
   "language": "python",
   "name": "python3"
  },
  "language_info": {
   "codemirror_mode": {
    "name": "ipython",
    "version": 3
   },
   "file_extension": ".py",
   "mimetype": "text/x-python",
   "name": "python",
   "nbconvert_exporter": "python",
   "pygments_lexer": "ipython3",
   "version": "3.7.2"
  }
 },
 "nbformat": 4,
 "nbformat_minor": 2
}
