{
 "cells": [
  {
   "cell_type": "markdown",
   "metadata": {},
   "source": [
    "## Importing Files"
   ]
  },
  {
   "cell_type": "code",
   "execution_count": 1,
   "metadata": {},
   "outputs": [],
   "source": [
    "import matplotlib.pyplot as plt\n",
    "import pandas as pd\n",
    "import os"
   ]
  },
  {
   "cell_type": "code",
   "execution_count": 2,
   "metadata": {},
   "outputs": [],
   "source": [
    "df = []\n",
    "\n",
    "os.chdir('../..')\n",
    "os.chdir('debugprov-experimentdata')\n",
    "os.chdir('excel_processing')\n",
    "os.chdir('excel_files')\n",
    "\n",
    "programs = {}\n",
    "\n",
    "for excel_file in os.listdir():\n",
    "    programs[excel_file[:-5]] = pd.read_excel(excel_file) \n",
    "    data = pd.read_excel(excel_file)\n",
    "    df.append(data)\n",
    "\n",
    "os.chdir('..')\n",
    "\n",
    "os.mkdir('analysis')\n",
    "os.mkdir('analysis/by_navigation_strategy')\n",
    "\n",
    "\n",
    "df = pd.concat(df)\n",
    "#print(df['Subject'])"
   ]
  },
  {
   "cell_type": "code",
   "execution_count": 3,
   "metadata": {},
   "outputs": [],
   "source": [
    "single_stepping = \"Single Stepping\"\n",
    "top_down = \"Top Down\"\n",
    "heaviest_first = \"Heaviest First\"\n",
    "divide_and_query = \"Divide and Query\"\n",
    "\n",
    "single_stepping_prov = \"Single Stepping PROV\"\n",
    "top_down_prov = \"Top Down PROV\"\n",
    "heaviest_first_prov = \"Heaviest First PROV\"\n",
    "divide_and_query_prov = \"Divide and Query PROV\"\n",
    "\n",
    "NavigationStrategies = [single_stepping,top_down,heaviest_first,divide_and_query,\n",
    "                        single_stepping_prov,top_down_prov,heaviest_first_prov,divide_and_query_prov]"
   ]
  },
  {
   "cell_type": "markdown",
   "metadata": {},
   "source": [
    "## Searching for executions that the buggy node was not correct "
   ]
  },
  {
   "cell_type": "code",
   "execution_count": 4,
   "metadata": {},
   "outputs": [],
   "source": [
    "# Strategy 1 : Include all executions to analysis even when the found buggy node was not the expected buggy node\n",
    "# Strategy 2 : Exclude the entire subject when in a single execution the found buggy node was not the expected buggy node \n",
    "#              (Strategy 2 allows paired analysis)\n",
    "# Strategy 3: Exclude a single execution when the found buggy node was not the expected buggy node \n",
    "#             (Strategy 3 DOES NOT allows paired analysis)\n",
    "\n",
    "strategy = 1"
   ]
  },
  {
   "cell_type": "code",
   "execution_count": 5,
   "metadata": {},
   "outputs": [
    {
     "name": "stdout",
     "output_type": "stream",
     "text": [
      "0 0\n"
     ]
    }
   ],
   "source": [
    "stored = 0\n",
    "discarted = 0\n",
    "if strategy == 1:\n",
    "    pass\n",
    "elif strategy == 2:\n",
    "    selecteds = []\n",
    "    for index, row in df.iterrows():\n",
    "        expected_buggy_node = row['Expected Buggy Node'] \n",
    "        discart = False\n",
    "        for nav in NavigationStrategies:\n",
    "            #print(row['Subject'],expected_buggy_node,row[nav + ' Buggy Node Found'])\n",
    "            #print(int(expected_buggy_node),int(row[nav + ' Buggy Node Found']))\n",
    "            if int(expected_buggy_node) != int(row[nav + ' Buggy Node Found']):\n",
    "                discart = True\n",
    "        if not discart:\n",
    "            stored += 1\n",
    "            selecteds.append(row)\n",
    "        else:\n",
    "            print(row['Subject'])\n",
    "            discarted += 1\n",
    "    df = pd.DataFrame(selecteds)\n",
    "elif strategy == 3:\n",
    "    pass\n",
    "\n",
    "print(stored,discarted)"
   ]
  },
  {
   "cell_type": "code",
   "execution_count": 6,
   "metadata": {},
   "outputs": [
    {
     "data": {
      "text/plain": [
       "458"
      ]
     },
     "execution_count": 6,
     "metadata": {},
     "output_type": "execute_result"
    }
   ],
   "source": [
    "len(df)"
   ]
  },
  {
   "cell_type": "code",
   "execution_count": 7,
   "metadata": {},
   "outputs": [
    {
     "data": {
      "text/html": [
       "<div>\n",
       "<style scoped>\n",
       "    .dataframe tbody tr th:only-of-type {\n",
       "        vertical-align: middle;\n",
       "    }\n",
       "\n",
       "    .dataframe tbody tr th {\n",
       "        vertical-align: top;\n",
       "    }\n",
       "\n",
       "    .dataframe thead th {\n",
       "        text-align: right;\n",
       "    }\n",
       "</style>\n",
       "<table border=\"1\" class=\"dataframe\">\n",
       "  <thead>\n",
       "    <tr style=\"text-align: right;\">\n",
       "      <th></th>\n",
       "      <th>Unnamed: 0</th>\n",
       "      <th>Subject</th>\n",
       "      <th>Timestamp</th>\n",
       "      <th>Cwd</th>\n",
       "      <th>Expected Buggy Node</th>\n",
       "      <th>Single Stepping</th>\n",
       "      <th>Single Stepping Fallback</th>\n",
       "      <th>Single Stepping Buggy Node Found</th>\n",
       "      <th>Top Down</th>\n",
       "      <th>Top Down Fallback</th>\n",
       "      <th>...</th>\n",
       "      <th>Single Stepping PROV Buggy Node Found</th>\n",
       "      <th>Top Down PROV</th>\n",
       "      <th>Top Down PROV Fallback</th>\n",
       "      <th>Top Down PROV Buggy Node Found</th>\n",
       "      <th>Heaviest First PROV</th>\n",
       "      <th>Heaviest First PROV Fallback</th>\n",
       "      <th>Heaviest First PROV Buggy Node Found</th>\n",
       "      <th>Divide and Query PROV</th>\n",
       "      <th>Divide and Query PROV Fallback</th>\n",
       "      <th>Divide and Query PROV Buggy Node Found</th>\n",
       "    </tr>\n",
       "  </thead>\n",
       "  <tbody>\n",
       "  </tbody>\n",
       "</table>\n",
       "<p>0 rows × 29 columns</p>\n",
       "</div>"
      ],
      "text/plain": [
       "Empty DataFrame\n",
       "Columns: [Unnamed: 0, Subject, Timestamp, Cwd, Expected Buggy Node, Single Stepping, Single Stepping Fallback, Single Stepping Buggy Node Found, Top Down, Top Down Fallback, Top Down Buggy Node Found, Heaviest First, Heaviest First Fallback, Heaviest First Buggy Node Found, Divide and Query, Divide and Query Fallback, Divide and Query Buggy Node Found, Single Stepping PROV, Single Stepping PROV Fallback, Single Stepping PROV Buggy Node Found, Top Down PROV, Top Down PROV Fallback, Top Down PROV Buggy Node Found, Heaviest First PROV, Heaviest First PROV Fallback, Heaviest First PROV Buggy Node Found, Divide and Query PROV, Divide and Query PROV Fallback, Divide and Query PROV Buggy Node Found]\n",
       "Index: []\n",
       "\n",
       "[0 rows x 29 columns]"
      ]
     },
     "execution_count": 7,
     "metadata": {},
     "output_type": "execute_result"
    }
   ],
   "source": [
    "df[\n",
    "    (df[\"Expected Buggy Node\"] != df[\"Single Stepping Buggy Node Found\"])\n",
    "    | (df[\"Expected Buggy Node\"] != df[\"Top Down Buggy Node Found\"])\n",
    "    | (df[\"Expected Buggy Node\"] != df[\"Heaviest First Buggy Node Found\"])\n",
    "    | (df[\"Expected Buggy Node\"] != df[\"Divide and Query Buggy Node Found\"])\n",
    "]"
   ]
  },
  {
   "cell_type": "code",
   "execution_count": 8,
   "metadata": {},
   "outputs": [
    {
     "data": {
      "text/html": [
       "<div>\n",
       "<style scoped>\n",
       "    .dataframe tbody tr th:only-of-type {\n",
       "        vertical-align: middle;\n",
       "    }\n",
       "\n",
       "    .dataframe tbody tr th {\n",
       "        vertical-align: top;\n",
       "    }\n",
       "\n",
       "    .dataframe thead th {\n",
       "        text-align: right;\n",
       "    }\n",
       "</style>\n",
       "<table border=\"1\" class=\"dataframe\">\n",
       "  <thead>\n",
       "    <tr style=\"text-align: right;\">\n",
       "      <th></th>\n",
       "      <th>Unnamed: 0</th>\n",
       "      <th>Subject</th>\n",
       "      <th>Timestamp</th>\n",
       "      <th>Cwd</th>\n",
       "      <th>Expected Buggy Node</th>\n",
       "      <th>Single Stepping</th>\n",
       "      <th>Single Stepping Fallback</th>\n",
       "      <th>Single Stepping Buggy Node Found</th>\n",
       "      <th>Top Down</th>\n",
       "      <th>Top Down Fallback</th>\n",
       "      <th>...</th>\n",
       "      <th>Single Stepping PROV Buggy Node Found</th>\n",
       "      <th>Top Down PROV</th>\n",
       "      <th>Top Down PROV Fallback</th>\n",
       "      <th>Top Down PROV Buggy Node Found</th>\n",
       "      <th>Heaviest First PROV</th>\n",
       "      <th>Heaviest First PROV Fallback</th>\n",
       "      <th>Heaviest First PROV Buggy Node Found</th>\n",
       "      <th>Divide and Query PROV</th>\n",
       "      <th>Divide and Query PROV Fallback</th>\n",
       "      <th>Divide and Query PROV Buggy Node Found</th>\n",
       "    </tr>\n",
       "  </thead>\n",
       "  <tbody>\n",
       "  </tbody>\n",
       "</table>\n",
       "<p>0 rows × 29 columns</p>\n",
       "</div>"
      ],
      "text/plain": [
       "Empty DataFrame\n",
       "Columns: [Unnamed: 0, Subject, Timestamp, Cwd, Expected Buggy Node, Single Stepping, Single Stepping Fallback, Single Stepping Buggy Node Found, Top Down, Top Down Fallback, Top Down Buggy Node Found, Heaviest First, Heaviest First Fallback, Heaviest First Buggy Node Found, Divide and Query, Divide and Query Fallback, Divide and Query Buggy Node Found, Single Stepping PROV, Single Stepping PROV Fallback, Single Stepping PROV Buggy Node Found, Top Down PROV, Top Down PROV Fallback, Top Down PROV Buggy Node Found, Heaviest First PROV, Heaviest First PROV Fallback, Heaviest First PROV Buggy Node Found, Divide and Query PROV, Divide and Query PROV Fallback, Divide and Query PROV Buggy Node Found]\n",
       "Index: []\n",
       "\n",
       "[0 rows x 29 columns]"
      ]
     },
     "execution_count": 8,
     "metadata": {},
     "output_type": "execute_result"
    }
   ],
   "source": [
    "df[\n",
    "    (df[\"Expected Buggy Node\"] != df[\"Single Stepping PROV Buggy Node Found\"])\n",
    "    | (df[\"Expected Buggy Node\"] != df[\"Top Down PROV Buggy Node Found\"])\n",
    "    | (df[\"Expected Buggy Node\"] != df[\"Heaviest First PROV Buggy Node Found\"])\n",
    "    | (df[\"Expected Buggy Node\"] != df[\"Divide and Query PROV Buggy Node Found\"])\n",
    "]"
   ]
  },
  {
   "cell_type": "code",
   "execution_count": 9,
   "metadata": {},
   "outputs": [
    {
     "data": {
      "text/plain": [
       "Index(['Unnamed: 0', 'Subject', 'Timestamp', 'Cwd', 'Expected Buggy Node',\n",
       "       'Single Stepping', 'Single Stepping Fallback',\n",
       "       'Single Stepping Buggy Node Found', 'Top Down', 'Top Down Fallback',\n",
       "       'Top Down Buggy Node Found', 'Heaviest First',\n",
       "       'Heaviest First Fallback', 'Heaviest First Buggy Node Found',\n",
       "       'Divide and Query', 'Divide and Query Fallback',\n",
       "       'Divide and Query Buggy Node Found', 'Single Stepping PROV',\n",
       "       'Single Stepping PROV Fallback',\n",
       "       'Single Stepping PROV Buggy Node Found', 'Top Down PROV',\n",
       "       'Top Down PROV Fallback', 'Top Down PROV Buggy Node Found',\n",
       "       'Heaviest First PROV', 'Heaviest First PROV Fallback',\n",
       "       'Heaviest First PROV Buggy Node Found', 'Divide and Query PROV',\n",
       "       'Divide and Query PROV Fallback',\n",
       "       'Divide and Query PROV Buggy Node Found'],\n",
       "      dtype='object')"
      ]
     },
     "execution_count": 9,
     "metadata": {},
     "output_type": "execute_result"
    }
   ],
   "source": [
    "df.columns"
   ]
  },
  {
   "cell_type": "code",
   "execution_count": 10,
   "metadata": {},
   "outputs": [
    {
     "data": {
      "text/html": [
       "<div>\n",
       "<style scoped>\n",
       "    .dataframe tbody tr th:only-of-type {\n",
       "        vertical-align: middle;\n",
       "    }\n",
       "\n",
       "    .dataframe tbody tr th {\n",
       "        vertical-align: top;\n",
       "    }\n",
       "\n",
       "    .dataframe thead th {\n",
       "        text-align: right;\n",
       "    }\n",
       "</style>\n",
       "<table border=\"1\" class=\"dataframe\">\n",
       "  <thead>\n",
       "    <tr style=\"text-align: right;\">\n",
       "      <th></th>\n",
       "      <th>Unnamed: 0</th>\n",
       "      <th>Subject</th>\n",
       "      <th>Timestamp</th>\n",
       "      <th>Cwd</th>\n",
       "      <th>Expected Buggy Node</th>\n",
       "      <th>Single Stepping</th>\n",
       "      <th>Single Stepping Fallback</th>\n",
       "      <th>Single Stepping Buggy Node Found</th>\n",
       "      <th>Top Down</th>\n",
       "      <th>Top Down Fallback</th>\n",
       "      <th>...</th>\n",
       "      <th>Single Stepping PROV Buggy Node Found</th>\n",
       "      <th>Top Down PROV</th>\n",
       "      <th>Top Down PROV Fallback</th>\n",
       "      <th>Top Down PROV Buggy Node Found</th>\n",
       "      <th>Heaviest First PROV</th>\n",
       "      <th>Heaviest First PROV Fallback</th>\n",
       "      <th>Heaviest First PROV Buggy Node Found</th>\n",
       "      <th>Divide and Query PROV</th>\n",
       "      <th>Divide and Query PROV Fallback</th>\n",
       "      <th>Divide and Query PROV Buggy Node Found</th>\n",
       "    </tr>\n",
       "  </thead>\n",
       "  <tbody>\n",
       "  </tbody>\n",
       "</table>\n",
       "<p>0 rows × 29 columns</p>\n",
       "</div>"
      ],
      "text/plain": [
       "Empty DataFrame\n",
       "Columns: [Unnamed: 0, Subject, Timestamp, Cwd, Expected Buggy Node, Single Stepping, Single Stepping Fallback, Single Stepping Buggy Node Found, Top Down, Top Down Fallback, Top Down Buggy Node Found, Heaviest First, Heaviest First Fallback, Heaviest First Buggy Node Found, Divide and Query, Divide and Query Fallback, Divide and Query Buggy Node Found, Single Stepping PROV, Single Stepping PROV Fallback, Single Stepping PROV Buggy Node Found, Top Down PROV, Top Down PROV Fallback, Top Down PROV Buggy Node Found, Heaviest First PROV, Heaviest First PROV Fallback, Heaviest First PROV Buggy Node Found, Divide and Query PROV, Divide and Query PROV Fallback, Divide and Query PROV Buggy Node Found]\n",
       "Index: []\n",
       "\n",
       "[0 rows x 29 columns]"
      ]
     },
     "execution_count": 10,
     "metadata": {},
     "output_type": "execute_result"
    }
   ],
   "source": [
    "df[\n",
    "    (df[\"Expected Buggy Node\"] != df[\"Divide and Query PROV Buggy Node Found\"])\n",
    "]"
   ]
  },
  {
   "cell_type": "code",
   "execution_count": 11,
   "metadata": {},
   "outputs": [
    {
     "data": {
      "text/html": [
       "<div>\n",
       "<style scoped>\n",
       "    .dataframe tbody tr th:only-of-type {\n",
       "        vertical-align: middle;\n",
       "    }\n",
       "\n",
       "    .dataframe tbody tr th {\n",
       "        vertical-align: top;\n",
       "    }\n",
       "\n",
       "    .dataframe thead th {\n",
       "        text-align: right;\n",
       "    }\n",
       "</style>\n",
       "<table border=\"1\" class=\"dataframe\">\n",
       "  <thead>\n",
       "    <tr style=\"text-align: right;\">\n",
       "      <th></th>\n",
       "      <th>Unnamed: 0</th>\n",
       "      <th>Subject</th>\n",
       "      <th>Timestamp</th>\n",
       "      <th>Cwd</th>\n",
       "      <th>Expected Buggy Node</th>\n",
       "      <th>Single Stepping</th>\n",
       "      <th>Single Stepping Fallback</th>\n",
       "      <th>Single Stepping Buggy Node Found</th>\n",
       "      <th>Top Down</th>\n",
       "      <th>Top Down Fallback</th>\n",
       "      <th>...</th>\n",
       "      <th>Single Stepping PROV Buggy Node Found</th>\n",
       "      <th>Top Down PROV</th>\n",
       "      <th>Top Down PROV Fallback</th>\n",
       "      <th>Top Down PROV Buggy Node Found</th>\n",
       "      <th>Heaviest First PROV</th>\n",
       "      <th>Heaviest First PROV Fallback</th>\n",
       "      <th>Heaviest First PROV Buggy Node Found</th>\n",
       "      <th>Divide and Query PROV</th>\n",
       "      <th>Divide and Query PROV Fallback</th>\n",
       "      <th>Divide and Query PROV Buggy Node Found</th>\n",
       "    </tr>\n",
       "  </thead>\n",
       "  <tbody>\n",
       "  </tbody>\n",
       "</table>\n",
       "<p>0 rows × 29 columns</p>\n",
       "</div>"
      ],
      "text/plain": [
       "Empty DataFrame\n",
       "Columns: [Unnamed: 0, Subject, Timestamp, Cwd, Expected Buggy Node, Single Stepping, Single Stepping Fallback, Single Stepping Buggy Node Found, Top Down, Top Down Fallback, Top Down Buggy Node Found, Heaviest First, Heaviest First Fallback, Heaviest First Buggy Node Found, Divide and Query, Divide and Query Fallback, Divide and Query Buggy Node Found, Single Stepping PROV, Single Stepping PROV Fallback, Single Stepping PROV Buggy Node Found, Top Down PROV, Top Down PROV Fallback, Top Down PROV Buggy Node Found, Heaviest First PROV, Heaviest First PROV Fallback, Heaviest First PROV Buggy Node Found, Divide and Query PROV, Divide and Query PROV Fallback, Divide and Query PROV Buggy Node Found]\n",
       "Index: []\n",
       "\n",
       "[0 rows x 29 columns]"
      ]
     },
     "execution_count": 11,
     "metadata": {},
     "output_type": "execute_result"
    }
   ],
   "source": [
    "df[\n",
    "    (df[\"Expected Buggy Node\"] != df[\"Single Stepping PROV Buggy Node Found\"])\n",
    "    | (df[\"Expected Buggy Node\"] != df[\"Top Down PROV Buggy Node Found\"])\n",
    "    | (df[\"Expected Buggy Node\"] != df[\"Heaviest First PROV Buggy Node Found\"])\n",
    "]"
   ]
  },
  {
   "cell_type": "markdown",
   "metadata": {},
   "source": [
    "## Generalized Analysis"
   ]
  },
  {
   "cell_type": "code",
   "execution_count": 12,
   "metadata": {},
   "outputs": [],
   "source": [
    "without_prov = []\n",
    "with_prov = []"
   ]
  },
  {
   "cell_type": "code",
   "execution_count": 13,
   "metadata": {},
   "outputs": [],
   "source": [
    "for t in df[single_stepping]:\n",
    "    without_prov.append(t)\n",
    "for t in df[top_down]:\n",
    "    without_prov.append(t)\n",
    "for t in df[heaviest_first]:\n",
    "    without_prov.append(t)\n",
    "for t in df[divide_and_query]:\n",
    "    without_prov.append(t)\n",
    "\n",
    "for t in df[single_stepping_prov]:\n",
    "    with_prov.append(t)\n",
    "for t in df[top_down_prov]:\n",
    "    with_prov.append(t)\n",
    "for t in df[heaviest_first_prov]:\n",
    "    with_prov.append(t)\n",
    "for t in df[divide_and_query_prov]:\n",
    "    with_prov.append(t)\n",
    "    "
   ]
  },
  {
   "cell_type": "code",
   "execution_count": 14,
   "metadata": {},
   "outputs": [
    {
     "data": {
      "text/plain": [
       "1832"
      ]
     },
     "execution_count": 14,
     "metadata": {},
     "output_type": "execute_result"
    }
   ],
   "source": [
    "len(without_prov)"
   ]
  },
  {
   "cell_type": "code",
   "execution_count": 15,
   "metadata": {},
   "outputs": [
    {
     "data": {
      "text/plain": [
       "1832"
      ]
     },
     "execution_count": 15,
     "metadata": {},
     "output_type": "execute_result"
    }
   ],
   "source": [
    "len(with_prov)"
   ]
  },
  {
   "cell_type": "code",
   "execution_count": 16,
   "metadata": {},
   "outputs": [],
   "source": [
    "data_frame = pd.DataFrame({\n",
    "            'without_prov': without_prov,\n",
    "            'with_prov': with_prov,\n",
    "})\n",
    "data_frame.to_excel('analysis/generalized_analysis.xlsx') "
   ]
  },
  {
   "cell_type": "code",
   "execution_count": 17,
   "metadata": {},
   "outputs": [
    {
     "data": {
      "text/plain": [
       "<matplotlib.axes._subplots.AxesSubplot at 0x1ce20772748>"
      ]
     },
     "execution_count": 17,
     "metadata": {},
     "output_type": "execute_result"
    },
    {
     "data": {
      "image/png": "[encoded data removed]",
      "text/plain": [
       "<Figure size 432x288 with 1 Axes>"
      ]
     },
     "metadata": {
      "needs_background": "light"
     },
     "output_type": "display_data"
    }
   ],
   "source": [
    "data_frame.boxplot()"
   ]
  },
  {
   "cell_type": "code",
   "execution_count": 18,
   "metadata": {},
   "outputs": [
    {
     "data": {
      "image/png": "[encoded data removed]",
      "text/plain": [
       "<Figure size 432x288 with 1 Axes>"
      ]
     },
     "metadata": {
      "needs_background": "light"
     },
     "output_type": "display_data"
    }
   ],
   "source": [
    "plt.boxplot([without_prov,with_prov],showfliers=False,labels=['w/o Prov. Enhancement','w/ Prov. Enhancement'])\n",
    "plt.savefig('analysis/generalized_analysis.pdf')"
   ]
  },
  {
   "cell_type": "code",
   "execution_count": 19,
   "metadata": {},
   "outputs": [
    {
     "name": "stdout",
     "output_type": "stream",
     "text": [
      "Improvement: 0.2525824592190803\n"
     ]
    }
   ],
   "source": [
    "print(\"Improvement: {}\".format((sum(without_prov) - sum(with_prov)) / sum(without_prov)))"
   ]
  },
  {
   "cell_type": "markdown",
   "metadata": {},
   "source": [
    "## Analysis by navigation strategy"
   ]
  },
  {
   "cell_type": "code",
   "execution_count": 20,
   "metadata": {},
   "outputs": [],
   "source": [
    "r_single_stepping = []\n",
    "r_single_stepping_prov = []\n",
    "\n",
    "r_top_down = []\n",
    "r_top_down_prov = []\n",
    "\n",
    "r_heaviest_first = []\n",
    "r_heaviest_first_prov = []\n",
    "\n",
    "r_divide_and_query = []\n",
    "r_divide_and_query_prov = []"
   ]
  },
  {
   "cell_type": "code",
   "execution_count": 21,
   "metadata": {},
   "outputs": [],
   "source": [
    "for t in df[single_stepping]:\n",
    "    r_single_stepping.append(t)\n",
    "    \n",
    "for t in df[single_stepping_prov]:\n",
    "    r_single_stepping_prov.append(t)\n",
    "\n",
    "for t in df[top_down]:\n",
    "    r_top_down.append(t)\n",
    "    \n",
    "for t in df[top_down_prov]:\n",
    "    r_top_down_prov.append(t)\n",
    "\n",
    "for t in df[heaviest_first]:\n",
    "    r_heaviest_first.append(t)\n",
    "    \n",
    "for t in df[heaviest_first_prov]:\n",
    "    r_heaviest_first_prov.append(t)\n",
    "    \n",
    "for t in df[divide_and_query]:\n",
    "    r_divide_and_query.append(t)\n",
    "    \n",
    "for t in df[divide_and_query_prov]:\n",
    "    r_divide_and_query_prov.append(t)"
   ]
  },
  {
   "cell_type": "markdown",
   "metadata": {},
   "source": [
    "### Single Stepping"
   ]
  },
  {
   "cell_type": "code",
   "execution_count": 22,
   "metadata": {},
   "outputs": [
    {
     "data": {
      "image/png": "[encoded data removed]",
      "text/plain": [
       "<Figure size 432x288 with 1 Axes>"
      ]
     },
     "metadata": {
      "needs_background": "light"
     },
     "output_type": "display_data"
    }
   ],
   "source": [
    "plt.boxplot([r_single_stepping,r_single_stepping_prov],showfliers=False,labels=['w/o Prov. Enhancement','w/ Prov. Enhancement'])\n",
    "plt.title(single_stepping)\n",
    "plt.savefig('analysis/by_navigation_strategy/single_stepping.pdf')"
   ]
  },
  {
   "cell_type": "code",
   "execution_count": 23,
   "metadata": {},
   "outputs": [],
   "source": [
    "single_stepping_data_frame = pd.DataFrame({\n",
    "            'without_prov': r_single_stepping,\n",
    "            'with_prov': r_single_stepping_prov,\n",
    "})\n",
    "single_stepping_data_frame.to_excel('analysis/by_navigation_strategy/single_stepping.xlsx') "
   ]
  },
  {
   "cell_type": "code",
   "execution_count": 24,
   "metadata": {},
   "outputs": [
    {
     "name": "stdout",
     "output_type": "stream",
     "text": [
      "Single Stepping Improvement: 0.31007178475532904\n"
     ]
    }
   ],
   "source": [
    "print(\"Single Stepping Improvement: {}\".format((sum(r_single_stepping) - sum(r_single_stepping_prov)) / sum(r_single_stepping)))"
   ]
  },
  {
   "cell_type": "markdown",
   "metadata": {},
   "source": [
    "### Top Down"
   ]
  },
  {
   "cell_type": "code",
   "execution_count": 25,
   "metadata": {},
   "outputs": [
    {
     "data": {
      "image/png": "[encoded data removed]",
      "text/plain": [
       "<Figure size 432x288 with 1 Axes>"
      ]
     },
     "metadata": {
      "needs_background": "light"
     },
     "output_type": "display_data"
    }
   ],
   "source": [
    "plt.boxplot([r_top_down,r_top_down_prov],showfliers=False,labels=['w/o Prov. Enhancement','w/ Prov. Enhancement'])\n",
    "plt.title(top_down)\n",
    "plt.savefig('analysis/by_navigation_strategy/top_down.pdf')"
   ]
  },
  {
   "cell_type": "code",
   "execution_count": 26,
   "metadata": {},
   "outputs": [],
   "source": [
    "top_down_data_frame = pd.DataFrame({\n",
    "            'without_prov': r_top_down,\n",
    "            'with_prov': r_top_down_prov,\n",
    "})\n",
    "top_down_data_frame.to_excel('analysis/by_navigation_strategy/top_down.xlsx') "
   ]
  },
  {
   "cell_type": "code",
   "execution_count": 27,
   "metadata": {},
   "outputs": [
    {
     "name": "stdout",
     "output_type": "stream",
     "text": [
      "Top Down Improvement: 0.25640095742366\n"
     ]
    }
   ],
   "source": [
    "print(\"Top Down Improvement: {}\".format((sum(r_top_down) - sum(r_top_down_prov)) / sum(r_top_down)))"
   ]
  },
  {
   "cell_type": "markdown",
   "metadata": {},
   "source": [
    "### Heaviest First"
   ]
  },
  {
   "cell_type": "code",
   "execution_count": 28,
   "metadata": {},
   "outputs": [
    {
     "data": {
      "image/png": "[encoded data removed]",
      "text/plain": [
       "<Figure size 432x288 with 1 Axes>"
      ]
     },
     "metadata": {
      "needs_background": "light"
     },
     "output_type": "display_data"
    }
   ],
   "source": [
    "plt.boxplot([r_heaviest_first,r_heaviest_first_prov],showfliers=False,labels=['w/o Prov. Enhancement','w/ Prov. Enhancement'])\n",
    "plt.title(heaviest_first)\n",
    "plt.savefig('analysis/by_navigation_strategy/heaviest_first.pdf')"
   ]
  },
  {
   "cell_type": "code",
   "execution_count": 29,
   "metadata": {},
   "outputs": [],
   "source": [
    "heaviest_first_data_frame = pd.DataFrame({\n",
    "            'without_prov': r_heaviest_first,\n",
    "            'with_prov': r_heaviest_first_prov,\n",
    "})\n",
    "heaviest_first_data_frame.to_excel('analysis/by_navigation_strategy/heaviest_first.xlsx') "
   ]
  },
  {
   "cell_type": "code",
   "execution_count": 30,
   "metadata": {},
   "outputs": [
    {
     "name": "stdout",
     "output_type": "stream",
     "text": [
      "Heaviest First Improvement: 0.21509886159376873\n"
     ]
    }
   ],
   "source": [
    "print(\"Heaviest First Improvement: {}\".format((sum(r_heaviest_first) - sum(r_heaviest_first_prov)) / sum(r_heaviest_first)))"
   ]
  },
  {
   "cell_type": "markdown",
   "metadata": {},
   "source": [
    "### Divide and Query"
   ]
  },
  {
   "cell_type": "code",
   "execution_count": 31,
   "metadata": {},
   "outputs": [
    {
     "data": {
      "image/png": "[encoded data removed]",
      "text/plain": [
       "<Figure size 432x288 with 1 Axes>"
      ]
     },
     "metadata": {
      "needs_background": "light"
     },
     "output_type": "display_data"
    }
   ],
   "source": [
    "plt.boxplot([r_divide_and_query,r_divide_and_query_prov],showfliers=False,labels=['w/o Prov. Enhancement','w/ Prov. Enhancement'])\n",
    "plt.title(divide_and_query)\n",
    "plt.savefig('analysis/by_navigation_strategy/divide_and_query.pdf')"
   ]
  },
  {
   "cell_type": "code",
   "execution_count": 32,
   "metadata": {},
   "outputs": [],
   "source": [
    "divide_and_query_data_frame = pd.DataFrame({\n",
    "            'without_prov': r_divide_and_query,\n",
    "            'with_prov': r_divide_and_query_prov,\n",
    "})\n",
    "divide_and_query_data_frame.to_excel('analysis/by_navigation_strategy/divide_and_query.xlsx') "
   ]
  },
  {
   "cell_type": "code",
   "execution_count": 33,
   "metadata": {},
   "outputs": [
    {
     "name": "stdout",
     "output_type": "stream",
     "text": [
      "Divide and Query Improvement: 0.12331144819258924\n"
     ]
    }
   ],
   "source": [
    "print(\"Divide and Query Improvement: {}\".format((sum(r_divide_and_query) - sum(r_divide_and_query_prov)) / sum(r_divide_and_query)))"
   ]
  },
  {
   "cell_type": "markdown",
   "metadata": {},
   "source": [
    "## Analysis by Program"
   ]
  },
  {
   "cell_type": "code",
   "execution_count": 34,
   "metadata": {},
   "outputs": [
    {
     "name": "stdout",
     "output_type": "stream",
     "text": [
      "02-bisection,71,24564,24097,0.01901156163491288\n",
      "03-intersection,40,6699,5516,0.17659352142110762\n",
      "04-lu_decomposition,55,4743,990,0.7912713472485768\n",
      "05-newton_method,15,419,321,0.23389021479713604\n",
      "07-basic_binary_tree,5,296,254,0.14189189189189189\n",
      "09-dijkstra_algorithm,92,24430,15170,0.3790421612771183\n",
      "13-merge_sort,3,36,24,0.3333333333333333\n",
      "17-merge_intervals,28,850,276,0.6752941176470588\n",
      "19-binary_search,17,170,112,0.3411764705882353\n",
      "20-permute,2,99,83,0.16161616161616163\n",
      "21-longest_common_subsequence,8,112,96,0.14285714285714285\n",
      "22-catalan,5,52,40,0.23076923076923078\n",
      "24-bubblesort,51,510,714,-0.4\n",
      "25-quicksort,10,434,471,-0.08525345622119816\n",
      "26-heapsort,56,11805,8056,0.3175772977551885\n"
     ]
    }
   ],
   "source": [
    "num_of_mutants = 0\n",
    "total_of_questions_without_prov = 0\n",
    "total_of_questions_with_prov = 0\n",
    "\n",
    "for p in programs:\n",
    "    program_without_prov = sum(programs[p][single_stepping]) + sum(programs[p][top_down]) + sum(programs[p][heaviest_first]) + sum(programs[p][divide_and_query]) \n",
    "    program_with_prov = sum(programs[p][single_stepping_prov]) + sum(programs[p][top_down_prov]) + sum(programs[p][heaviest_first_prov]) + sum(programs[p][divide_and_query_prov]) \n",
    "    reduction = (program_without_prov - program_with_prov) / program_without_prov\n",
    "    print('{},{},{},{},{}'.format(p,len(programs[p]),program_without_prov,program_with_prov,reduction))\n",
    "    num_of_mutants += len(programs[p])\n",
    "    total_of_questions_without_prov += program_without_prov\n",
    "    total_of_questions_with_prov += program_with_prov\n",
    "    "
   ]
  },
  {
   "cell_type": "code",
   "execution_count": 35,
   "metadata": {},
   "outputs": [
    {
     "data": {
      "text/plain": [
       "458"
      ]
     },
     "execution_count": 35,
     "metadata": {},
     "output_type": "execute_result"
    }
   ],
   "source": [
    "num_of_mutants"
   ]
  },
  {
   "cell_type": "code",
   "execution_count": 36,
   "metadata": {},
   "outputs": [
    {
     "data": {
      "text/plain": [
       "75219"
      ]
     },
     "execution_count": 36,
     "metadata": {},
     "output_type": "execute_result"
    }
   ],
   "source": [
    "total_of_questions_without_prov"
   ]
  },
  {
   "cell_type": "code",
   "execution_count": 37,
   "metadata": {},
   "outputs": [
    {
     "data": {
      "text/plain": [
       "56220"
      ]
     },
     "execution_count": 37,
     "metadata": {},
     "output_type": "execute_result"
    }
   ],
   "source": [
    "total_of_questions_with_prov"
   ]
  },
  {
   "cell_type": "code",
   "execution_count": 38,
   "metadata": {},
   "outputs": [
    {
     "name": "stdout",
     "output_type": "stream",
     "text": [
      "reduction: 0.2525824592190803\n"
     ]
    }
   ],
   "source": [
    "print('reduction: {}'.format((total_of_questions_without_prov-total_of_questions_with_prov)/total_of_questions_without_prov))"
   ]
  },
  {
   "cell_type": "code",
   "execution_count": null,
   "metadata": {},
   "outputs": [],
   "source": []
  },
  {
   "cell_type": "code",
   "execution_count": null,
   "metadata": {},
   "outputs": [],
   "source": []
  }
 ],
 "metadata": {
  "kernelspec": {
   "display_name": "Python 3",
   "language": "python",
   "name": "python3"
  },
  "language_info": {
   "codemirror_mode": {
    "name": "ipython",
    "version": 3
   },
   "file_extension": ".py",
   "mimetype": "text/x-python",
   "name": "python",
   "nbconvert_exporter": "python",
   "pygments_lexer": "ipython3",
   "version": "3.7.2"
  }
 },
 "nbformat": 4,
 "nbformat_minor": 2
}
