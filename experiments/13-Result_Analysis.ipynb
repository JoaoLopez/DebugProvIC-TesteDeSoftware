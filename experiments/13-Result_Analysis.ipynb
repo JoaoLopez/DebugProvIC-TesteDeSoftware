{
 "cells": [
  {
   "cell_type": "markdown",
   "metadata": {},
   "source": [
    "## Importing Files"
   ]
  },
  {
   "cell_type": "code",
   "execution_count": null,
   "metadata": {},
   "outputs": [],
   "source": [
    "import matplotlib.pyplot as plt\n",
    "import pandas as pd\n",
    "import os"
   ]
  },
  {
   "cell_type": "code",
   "execution_count": null,
   "metadata": {},
   "outputs": [],
   "source": [
    "df = []\n",
    "\n",
    "os.chdir('../..')\n",
    "os.chdir('debugprov-experimentdata')\n",
    "os.chdir('excel_processing')\n",
    "os.chdir('excel_files')\n",
    "\n",
    "for excel_file in os.listdir():\n",
    "    data = pd.read_excel(excel_file)\n",
    "    df.append(data)\n",
    "\n",
    "os.chdir('..')\n",
    "\n",
    "os.mkdir('analysis')\n",
    "os.mkdir('analysis/by_navigation_strategy')\n",
    "\n",
    "df = pd.concat(df)\n",
    "#print(df['Subject'])"
   ]
  },
  {
   "cell_type": "code",
   "execution_count": null,
   "metadata": {},
   "outputs": [],
   "source": [
    "single_stepping = \"Single Stepping\"\n",
    "top_down = \"Top Down\"\n",
    "heaviest_first = \"Heaviest First\"\n",
    "divide_and_query = \"Divide and Query\"\n",
    "\n",
    "single_stepping_prov = \"Single Stepping PROV\"\n",
    "top_down_prov = \"Top Down PROV\"\n",
    "heaviest_first_prov = \"Heaviest First PROV\"\n",
    "divide_and_query_prov = \"Divide and Query PROV\"\n",
    "\n",
    "NavigationStrategies = [single_stepping,top_down,heaviest_first,divide_and_query,\n",
    "                        single_stepping_prov,top_down_prov,heaviest_first_prov,divide_and_query_prov]"
   ]
  },
  {
   "cell_type": "markdown",
   "metadata": {},
   "source": [
    "## Searching for executions that the buggy node was not correct "
   ]
  },
  {
   "cell_type": "code",
   "execution_count": null,
   "metadata": {},
   "outputs": [],
   "source": [
    "# Strategy 1 : Include all executions to analysis even when the found buggy node was not the expected buggy node\n",
    "# Strategy 2 : Exclude the entire subject when in a single execution the found buggy node was not the expected buggy node \n",
    "#              (Strategy 2 allows paired analysis)\n",
    "# Strategy 3: Exclude a single execution when the found buggy node was not the expected buggy node \n",
    "#             (Strategy 3 DOES NOT allows paired analysis)\n",
    "\n",
    "strategy = 1"
   ]
  },
  {
   "cell_type": "code",
   "execution_count": null,
   "metadata": {},
   "outputs": [],
   "source": [
    "stored = 0\n",
    "discarted = 0\n",
    "if strategy == 1:\n",
    "    pass\n",
    "elif strategy == 2:\n",
    "    selecteds = []\n",
    "    for index, row in df.iterrows():\n",
    "        expected_buggy_node = row['Expected Buggy Node'] \n",
    "        discart = False\n",
    "        for nav in NavigationStrategies:\n",
    "            #print(row['Subject'],expected_buggy_node,row[nav + ' Buggy Node Found'])\n",
    "            #print(int(expected_buggy_node),int(row[nav + ' Buggy Node Found']))\n",
    "            if int(expected_buggy_node) != int(row[nav + ' Buggy Node Found']):\n",
    "                discart = True\n",
    "        if not discart:\n",
    "            stored += 1\n",
    "            selecteds.append(row)\n",
    "        else:\n",
    "            print(row)\n",
    "            discarted += 1\n",
    "    df = pd.DataFrame(selecteds)\n",
    "elif strategy == 3:\n",
    "    pass\n",
    "\n",
    "print(stored,discarted)"
   ]
  },
  {
   "cell_type": "code",
   "execution_count": null,
   "metadata": {},
   "outputs": [],
   "source": [
    "len(df)"
   ]
  },
  {
   "cell_type": "markdown",
   "metadata": {},
   "source": [
    "## Generalized Analysis"
   ]
  },
  {
   "cell_type": "code",
   "execution_count": 7,
   "metadata": {},
   "outputs": [],
   "source": [
    "without_prov = []\n",
    "with_prov = []"
   ]
  },
  {
   "cell_type": "code",
   "execution_count": 8,
   "metadata": {},
   "outputs": [],
   "source": [
    "for t in df[single_stepping]:\n",
    "    without_prov.append(t)\n",
    "for t in df[top_down]:\n",
    "    without_prov.append(t)\n",
    "for t in df[heaviest_first]:\n",
    "    without_prov.append(t)\n",
    "for t in df[divide_and_query]:\n",
    "    without_prov.append(t)\n",
    "\n",
    "for t in df[single_stepping_prov]:\n",
    "    with_prov.append(t)\n",
    "for t in df[top_down_prov]:\n",
    "    with_prov.append(t)\n",
    "for t in df[heaviest_first_prov]:\n",
    "    with_prov.append(t)\n",
    "for t in df[divide_and_query_prov]:\n",
    "    with_prov.append(t)\n",
    "    "
   ]
  },
  {
   "cell_type": "code",
   "execution_count": 9,
   "metadata": {},
   "outputs": [],
   "source": [
    "len(without_prov)"
   ]
  },
  {
   "cell_type": "code",
   "execution_count": 10,
   "metadata": {},
   "outputs": [],
   "source": [
    "len(with_prov)"
   ]
  },
  {
   "cell_type": "code",
   "execution_count": 11,
   "metadata": {},
   "outputs": [],
   "source": [
    "data_frame = pd.DataFrame({\n",
    "            'without_prov': without_prov,\n",
    "            'with_prov': with_prov,\n",
    "})\n",
    "data_frame.to_excel('analysis/generalized_analysis.xlsx') "
   ]
  },
  {
   "cell_type": "code",
   "execution_count": 12,
   "metadata": {},
   "outputs": [],
   "source": [
    "data_frame.boxplot()"
   ]
  },
  {
   "cell_type": "code",
   "execution_count": 50,
   "metadata": {},
   "outputs": [
    {
     "data": {
      "image/png": "[encoded data removed]",
      "text/plain": [
       "<Figure size 432x288 with 1 Axes>"
      ]
     },
     "metadata": {
      "needs_background": "light"
     },
     "output_type": "display_data"
    }
   ],
   "source": [
    "plt.boxplot([without_prov,with_prov],showfliers=False,labels=['w/o Prov. Enhancement','w/ Prov. Enhancement'])\n",
    "plt.savefig('analysis/generalized_analysis.pdf')"
   ]
  },
  {
   "cell_type": "code",
   "execution_count": 28,
   "metadata": {},
   "outputs": [
    {
     "name": "stdout",
     "output_type": "stream",
     "text": [
      "Improvement: 0.39942857912966134\n"
     ]
    }
   ],
   "source": [
    "print(\"Improvement: {}\".format((sum(without_prov) - sum(with_prov)) / sum(without_prov)))"
   ]
  },
  {
   "cell_type": "markdown",
   "metadata": {},
   "source": [
    "## Analysis by navigation strategy"
   ]
  },
  {
   "cell_type": "code",
   "execution_count": 29,
   "metadata": {},
   "outputs": [],
   "source": [
    "r_single_stepping = []\n",
    "r_single_stepping_prov = []\n",
    "\n",
    "r_top_down = []\n",
    "r_top_down_prov = []\n",
    "\n",
    "r_heaviest_first = []\n",
    "r_heaviest_first_prov = []\n",
    "\n",
    "r_divide_and_query = []\n",
    "r_divide_and_query_prov = []"
   ]
  },
  {
   "cell_type": "code",
   "execution_count": 30,
   "metadata": {},
   "outputs": [],
   "source": [
    "for t in df[single_stepping]:\n",
    "    r_single_stepping.append(t)\n",
    "    \n",
    "for t in df[single_stepping_prov]:\n",
    "    r_single_stepping_prov.append(t)\n",
    "\n",
    "for t in df[top_down]:\n",
    "    r_top_down.append(t)\n",
    "    \n",
    "for t in df[top_down_prov]:\n",
    "    r_top_down_prov.append(t)\n",
    "\n",
    "for t in df[heaviest_first]:\n",
    "    r_heaviest_first.append(t)\n",
    "    \n",
    "for t in df[heaviest_first_prov]:\n",
    "    r_heaviest_first_prov.append(t)\n",
    "    \n",
    "for t in df[divide_and_query]:\n",
    "    r_divide_and_query.append(t)\n",
    "    \n",
    "for t in df[divide_and_query_prov]:\n",
    "    r_divide_and_query_prov.append(t)"
   ]
  },
  {
   "cell_type": "markdown",
   "metadata": {},
   "source": [
    "### Single Stepping"
   ]
  },
  {
   "cell_type": "code",
   "execution_count": 46,
   "metadata": {},
   "outputs": [
    {
     "data": {
      "image/png": "[encoded data removed]",
      "text/plain": [
       "<Figure size 432x288 with 1 Axes>"
      ]
     },
     "metadata": {
      "needs_background": "light"
     },
     "output_type": "display_data"
    }
   ],
   "source": [
    "plt.boxplot([r_single_stepping,r_single_stepping_prov],showfliers=False,labels=['w/o Prov. Enhancement','w/ Prov. Enhancement'])\n",
    "plt.title(single_stepping)\n",
    "plt.savefig('analysis/by_navigation_strategy/single_stepping.pdf')"
   ]
  },
  {
   "cell_type": "code",
   "execution_count": 32,
   "metadata": {},
   "outputs": [],
   "source": [
    "single_stepping_data_frame = pd.DataFrame({\n",
    "            'without_prov': r_single_stepping,\n",
    "            'with_prov': r_single_stepping_prov,\n",
    "})\n",
    "single_stepping_data_frame.to_excel('analysis/by_navigation_strategy/single_stepping.xlsx') "
   ]
  },
  {
   "cell_type": "code",
   "execution_count": 40,
   "metadata": {},
   "outputs": [
    {
     "name": "stdout",
     "output_type": "stream",
     "text": [
      "Single Stepping Improvement: 0.5080278371417611\n"
     ]
    }
   ],
   "source": [
    "print(\"Single Stepping Improvement: {}\".format((sum(r_single_stepping) - sum(r_single_stepping_prov)) / sum(r_single_stepping)))"
   ]
  },
  {
   "cell_type": "markdown",
   "metadata": {},
   "source": [
    "### Top Down"
   ]
  },
  {
   "cell_type": "code",
   "execution_count": 45,
   "metadata": {},
   "outputs": [
    {
     "data": {
      "image/png": "[encoded data removed]",
      "text/plain": [
       "<Figure size 432x288 with 1 Axes>"
      ]
     },
     "metadata": {
      "needs_background": "light"
     },
     "output_type": "display_data"
    }
   ],
   "source": [
    "plt.boxplot([r_top_down,r_top_down_prov],showfliers=False,labels=['w/o Prov. Enhancement','w/ Prov. Enhancement'])\n",
    "plt.title(top_down)\n",
    "plt.savefig('analysis/by_navigation_strategy/top_down.pdf')"
   ]
  },
  {
   "cell_type": "code",
   "execution_count": 38,
   "metadata": {},
   "outputs": [],
   "source": [
    "top_down_data_frame = pd.DataFrame({\n",
    "            'without_prov': r_top_down,\n",
    "            'with_prov': r_top_down_prov,\n",
    "})\n",
    "top_down_data_frame.to_excel('analysis/by_navigation_strategy/top_down.xlsx') "
   ]
  },
  {
   "cell_type": "code",
   "execution_count": 39,
   "metadata": {},
   "outputs": [
    {
     "name": "stdout",
     "output_type": "stream",
     "text": [
      "Top Down Improvement: 0.3756470853027234\n"
     ]
    }
   ],
   "source": [
    "print(\"Top Down Improvement: {}\".format((sum(r_top_down) - sum(r_top_down_prov)) / sum(r_top_down)))"
   ]
  },
  {
   "cell_type": "markdown",
   "metadata": {},
   "source": [
    "### Heaviest First"
   ]
  },
  {
   "cell_type": "code",
   "execution_count": 48,
   "metadata": {},
   "outputs": [
    {
     "data": {
      "image/png": "[encoded data removed]",
      "text/plain": [
       "<Figure size 432x288 with 1 Axes>"
      ]
     },
     "metadata": {
      "needs_background": "light"
     },
     "output_type": "display_data"
    }
   ],
   "source": [
    "plt.boxplot([r_heaviest_first,r_heaviest_first_prov],showfliers=False,labels=['w/o Prov. Enhancement','w/ Prov. Enhancement'])\n",
    "plt.title(heaviest_first)\n",
    "plt.savefig('analysis/by_navigation_strategy/heaviest_first.pdf')"
   ]
  },
  {
   "cell_type": "code",
   "execution_count": 21,
   "metadata": {},
   "outputs": [],
   "source": [
    "heaviest_first_data_frame = pd.DataFrame({\n",
    "            'without_prov': r_heaviest_first,\n",
    "            'with_prov': r_heaviest_first_prov,\n",
    "})\n",
    "heaviest_first_data_frame.to_excel('analysis/by_navigation_strategy/heaviest_first.xlsx') "
   ]
  },
  {
   "cell_type": "code",
   "execution_count": 41,
   "metadata": {},
   "outputs": [
    {
     "name": "stdout",
     "output_type": "stream",
     "text": [
      "Heaviest First Improvement: 0.2706458797327394\n"
     ]
    }
   ],
   "source": [
    "print(\"Heaviest First Improvement: {}\".format((sum(r_heaviest_first) - sum(r_heaviest_first_prov)) / sum(r_heaviest_first)))"
   ]
  },
  {
   "cell_type": "markdown",
   "metadata": {},
   "source": [
    "### Divide and Query"
   ]
  },
  {
   "cell_type": "code",
   "execution_count": 49,
   "metadata": {},
   "outputs": [
    {
     "data": {
      "image/png": "[encoded data removed]",
      "text/plain": [
       "<Figure size 432x288 with 1 Axes>"
      ]
     },
     "metadata": {
      "needs_background": "light"
     },
     "output_type": "display_data"
    }
   ],
   "source": [
    "plt.boxplot([r_divide_and_query,r_divide_and_query_prov],showfliers=False,labels=['w/o Prov. Enhancement','w/ Prov. Enhancement'])\n",
    "plt.title(divide_and_query)\n",
    "plt.savefig('analysis/by_navigation_strategy/divide_and_query.pdf')"
   ]
  },
  {
   "cell_type": "code",
   "execution_count": 23,
   "metadata": {},
   "outputs": [],
   "source": [
    "divide_and_query_data_frame = pd.DataFrame({\n",
    "            'without_prov': r_divide_and_query,\n",
    "            'with_prov': r_divide_and_query_prov,\n",
    "})\n",
    "divide_and_query_data_frame.to_excel('analysis/by_navigation_strategy/divide_and_query.xlsx') "
   ]
  },
  {
   "cell_type": "code",
   "execution_count": 42,
   "metadata": {},
   "outputs": [
    {
     "name": "stdout",
     "output_type": "stream",
     "text": [
      "Divide and Query Improvement: 0.23203285420944558\n"
     ]
    }
   ],
   "source": [
    "print(\"Divide and Query Improvement: {}\".format((sum(r_divide_and_query) - sum(r_divide_and_query_prov)) / sum(r_divide_and_query)))"
   ]
  },
  {
   "cell_type": "code",
   "execution_count": null,
   "metadata": {},
   "outputs": [],
   "source": []
  }
 ],
 "metadata": {
  "kernelspec": {
   "display_name": "Python 3",
   "language": "python",
   "name": "python3"
  },
  "language_info": {
   "codemirror_mode": {
    "name": "ipython",
    "version": 3
   },
   "file_extension": ".py",
   "mimetype": "text/x-python",
   "name": "python",
   "nbconvert_exporter": "python",
   "pygments_lexer": "ipython3",
   "version": "3.7.2"
  }
 },
 "nbformat": 4,
 "nbformat_minor": 2
}
