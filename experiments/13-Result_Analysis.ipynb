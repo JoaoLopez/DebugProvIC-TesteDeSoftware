{
 "cells": [
  {
   "cell_type": "markdown",
   "metadata": {},
   "source": [
    "## Importing Files"
   ]
  },
  {
   "cell_type": "code",
   "execution_count": 8,
   "metadata": {},
   "outputs": [],
   "source": [
    "import pandas as pd\n",
    "import os\n",
    "\n",
    "df = []\n",
    "\n",
    "os.chdir('../..')\n",
    "os.chdir('debugprov-experimentdata')\n",
    "os.chdir('excel_processing')\n",
    "os.chdir('excel_files')\n",
    "\n",
    "for excel_file in os.listdir():\n",
    "    data = pd.read_excel(excel_file)\n",
    "    df.append(data)\n",
    "\n",
    "os.chdir('..')\n",
    "\n",
    "df = pd.concat(df)\n",
    "#print(df['Subject'])"
   ]
  },
  {
   "cell_type": "code",
   "execution_count": 23,
   "metadata": {},
   "outputs": [],
   "source": [
    "single_stepping = \"Single Stepping\"\n",
    "top_down = \"Top Down\"\n",
    "heaviest_first = \"Heaviest First\"\n",
    "divide_and_query = \"Divide and Query\"\n",
    "\n",
    "single_stepping_prov = \"Single Stepping PROV\"\n",
    "top_down_prov = \"Top Down PROV\"\n",
    "heaviest_first_prov = \"Heaviest First PROV\"\n",
    "divide_and_query_prov = \"Divide and Query PROV\"\n",
    "\n",
    "NavigationStrategies = [single_stepping,top_down,heaviest_first,divide_and_query,\n",
    "                        single_stepping_prov,top_down_prov,heaviest_first_prov,divide_and_query_prov]"
   ]
  },
  {
   "cell_type": "markdown",
   "metadata": {},
   "source": [
    "## Searching for executions that the buggy node was not correct "
   ]
  },
  {
   "cell_type": "code",
   "execution_count": 35,
   "metadata": {},
   "outputs": [
    {
     "data": {
      "text/plain": [
       "3664"
      ]
     },
     "execution_count": 35,
     "metadata": {},
     "output_type": "execute_result"
    }
   ],
   "source": [
    "incorrects = []\n",
    "\n",
    "correct = 0\n",
    "\n",
    "for index, row in df.iterrows():\n",
    "    expected_buggy_node = row['Expected Buggy Node'] \n",
    "    for nav in NavigationStrategies:\n",
    "        if expected_buggy_node != row[nav + ' Buggy Node Found']:\n",
    "            incorrects.append([row['Subject'],nav])\n",
    "        else:\n",
    "            correct += 1\n",
    "    \n",
    "len(incorrects)+correct"
   ]
  },
  {
   "cell_type": "code",
   "execution_count": 36,
   "metadata": {},
   "outputs": [
    {
     "data": {
      "text/plain": [
       "3664"
      ]
     },
     "execution_count": 36,
     "metadata": {},
     "output_type": "execute_result"
    }
   ],
   "source": [
    "len(df)*8"
   ]
  },
  {
   "cell_type": "markdown",
   "metadata": {},
   "source": [
    "## Generalized Analysis"
   ]
  },
  {
   "cell_type": "code",
   "execution_count": 11,
   "metadata": {},
   "outputs": [],
   "source": [
    "without_prov = []\n",
    "with_prov = []"
   ]
  },
  {
   "cell_type": "code",
   "execution_count": 12,
   "metadata": {},
   "outputs": [],
   "source": [
    "for t in df[single_stepping]:\n",
    "    without_prov.append(t)\n",
    "for t in df[top_down]:\n",
    "    without_prov.append(t)\n",
    "for t in df[heaviest_first]:\n",
    "    without_prov.append(t)\n",
    "for t in df[divide_and_query]:\n",
    "    without_prov.append(t)\n",
    "\n",
    "for t in df[single_stepping_prov]:\n",
    "    with_prov.append(t)\n",
    "for t in df[top_down_prov]:\n",
    "    with_prov.append(t)\n",
    "for t in df[heaviest_first_prov]:\n",
    "    with_prov.append(t)\n",
    "for t in df[divide_and_query_prov]:\n",
    "    with_prov.append(t)\n",
    "    "
   ]
  },
  {
   "cell_type": "code",
   "execution_count": 17,
   "metadata": {},
   "outputs": [
    {
     "data": {
      "text/plain": [
       "1832"
      ]
     },
     "execution_count": 17,
     "metadata": {},
     "output_type": "execute_result"
    }
   ],
   "source": [
    "len(without_prov)"
   ]
  },
  {
   "cell_type": "code",
   "execution_count": 18,
   "metadata": {},
   "outputs": [
    {
     "data": {
      "text/plain": [
       "1832"
      ]
     },
     "execution_count": 18,
     "metadata": {},
     "output_type": "execute_result"
    }
   ],
   "source": [
    "len(with_prov)"
   ]
  },
  {
   "cell_type": "code",
   "execution_count": null,
   "metadata": {},
   "outputs": [],
   "source": []
  }
 ],
 "metadata": {
  "kernelspec": {
   "display_name": "Python 3",
   "language": "python",
   "name": "python3"
  },
  "language_info": {
   "codemirror_mode": {
    "name": "ipython",
    "version": 3
   },
   "file_extension": ".py",
   "mimetype": "text/x-python",
   "name": "python",
   "nbconvert_exporter": "python",
   "pygments_lexer": "ipython3",
   "version": "3.7.2"
  }
 },
 "nbformat": 4,
 "nbformat_minor": 2
}
