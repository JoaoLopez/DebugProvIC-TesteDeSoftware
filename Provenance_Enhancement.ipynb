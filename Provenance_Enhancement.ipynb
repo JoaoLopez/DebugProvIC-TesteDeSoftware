{
 "cells": [
  {
   "cell_type": "markdown",
   "metadata": {},
   "source": [
    "### This notebook presents an execution tree enhanced with provenance.\n",
    "### In this view, ALL of the dependencies are presented in the tree. None simplification or cleaning is performed\n",
    "### The grey objects in the graph are Evaluations that are NOT function calls"
   ]
  },
  {
   "cell_type": "code",
   "execution_count": 1,
   "metadata": {},
   "outputs": [],
   "source": [
    "# Imports\n",
    "import sqlite3\n",
    "\n",
    "from graphviz import Graph\n",
    "\n",
    "from pyalgdb.validity import Validity\n",
    "from pyalgdb.node import Node\n",
    "from pyalgdb.execution_tree import ExecutionTree\n",
    "from pyalgdb.execution_tree_creator import ExecTreeCreator\n",
    "from pyalgdb.top_down import TopDown\n",
    "from pyalgdb.heaviest_first import HeaviestFirst\n",
    "from pyalgdb.visualization import Visualization\n",
    "from pyalgdb.provenance_enhancement import ProvenanceEnhancement \n",
    "from pyalgdb.single_stepping import SingleStepping\n",
    "from pyalgdb.divide_and_query import DivideAndQuery"
   ]
  },
  {
   "cell_type": "code",
   "execution_count": 2,
   "metadata": {},
   "outputs": [],
   "source": [
    "NOW2_SQLITE_PATH = 'C:/Users/linha/Desktop/ws/py-scripts-examples/min-max/.noworkflow/db.sqlite'"
   ]
  },
  {
   "cell_type": "code",
   "execution_count": 3,
   "metadata": {},
   "outputs": [],
   "source": [
    "CURSOR = sqlite3.connect(NOW2_SQLITE_PATH).cursor()"
   ]
  },
  {
   "cell_type": "code",
   "execution_count": 4,
   "metadata": {},
   "outputs": [],
   "source": [
    "creator = ExecTreeCreator(CURSOR)\n",
    "exec_tree = creator.create_exec_tree()"
   ]
  },
  {
   "cell_type": "code",
   "execution_count": 5,
   "metadata": {},
   "outputs": [],
   "source": [
    "prov = ProvenanceEnhancement(exec_tree, CURSOR)"
   ]
  },
  {
   "cell_type": "code",
   "execution_count": 6,
   "metadata": {},
   "outputs": [],
   "source": [
    "dependencies = prov.prov_tools.get_dependencies()"
   ]
  },
  {
   "cell_type": "code",
   "execution_count": 7,
   "metadata": {},
   "outputs": [],
   "source": [
    "class CustomVisualization(Visualization):\n",
    "\n",
    "    PROVENANCE_COLOR = 'dodgerblue'\n",
    "    INVALID_COLOR = 'tomato'\n",
    "\n",
    "    NODE_FUNC_CALL = 'beige'\n",
    "    NODE_NOT_FUNC_CALL = 'grey60'\n",
    "\n",
    "    def view_exec_tree_prov(self, graph_name, dependencies:list):\n",
    "        file_name = \"{}.gv\".format(graph_name)\n",
    "        self.graph = Graph(graph_name, filename=file_name)\n",
    "        self.graph.attr('node', shape='box')\n",
    "        self.graph.attr('graph', ordering='out')\n",
    "        root_node = self.exec_tree.root_node\n",
    "        self.graph.node(str(root_node.ev_id), root_node.name, fillcolor=self.INVALID_COLOR, style='filled')\n",
    "        self.navigate(root_node)\n",
    "        eval_node = self.exec_tree.node_under_evaluation\n",
    "        if eval_node is not None:\n",
    "            self.graph.node(str(eval_node.ev_id), str(eval_node.name), fillcolor=self.NODE_IN_EVALUATION, style='filled')\n",
    "        for d in dependencies: # this loop draws the provenance links between nodes\n",
    "            \n",
    "            if (d.dependent.code_component_type == 'call'):\n",
    "                self.graph.node(str(d.dependent.ev_id), \"{} {}\".format(d.dependent.ev_id,d.dependent.code_component_name), fillcolor=self.NODE_FUNC_CALL, style='filled')\n",
    "            else:\n",
    "                self.graph.node(str(d.dependent.ev_id), \"{} {}\".format(d.dependent.ev_id,d.dependent.code_component_name), fillcolor=self.NODE_NOT_FUNC_CALL, style='filled')\n",
    "   \n",
    "            if (d.influencer.code_component_type == 'call'):\n",
    "                self.graph.node(str(d.influencer.ev_id), \"{} {}\".format(d.influencer.ev_id,d.influencer.code_component_name), fillcolor=self.NODE_FUNC_CALL, style='filled')\n",
    "            else:\n",
    "                self.graph.node(str(d.influencer.ev_id), \"{} {}\".format(d.influencer.ev_id,d.influencer.code_component_name), fillcolor=self.NODE_NOT_FUNC_CALL, style='filled')\n",
    "    \n",
    "            self.graph.edge(str(d.dependent.ev_id), str(d.influencer.ev_id), None, color=self.PROVENANCE_COLOR, dir='forward')\n",
    "        self.graph.view()"
   ]
  },
  {
   "cell_type": "code",
   "execution_count": 8,
   "metadata": {},
   "outputs": [],
   "source": [
    "vis = CustomVisualization(prov.exec_tree)"
   ]
  },
  {
   "cell_type": "code",
   "execution_count": 9,
   "metadata": {},
   "outputs": [
    {
     "data": {
      "text/plain": [
       "212"
      ]
     },
     "execution_count": 9,
     "metadata": {},
     "output_type": "execute_result"
    }
   ],
   "source": [
    "len(dependencies)"
   ]
  },
  {
   "cell_type": "code",
   "execution_count": 11,
   "metadata": {},
   "outputs": [],
   "source": [
    "vis.view_exec_tree_prov('exec_tree_prov_full', dependencies)"
   ]
  },
  {
   "cell_type": "code",
   "execution_count": null,
   "metadata": {},
   "outputs": [],
   "source": []
  },
  {
   "cell_type": "code",
   "execution_count": null,
   "metadata": {},
   "outputs": [],
   "source": []
  }
 ],
 "metadata": {
  "kernelspec": {
   "display_name": "Python 3",
   "language": "python",
   "name": "python3"
  },
  "language_info": {
   "codemirror_mode": {
    "name": "ipython",
    "version": 3
   },
   "file_extension": ".py",
   "mimetype": "text/x-python",
   "name": "python",
   "nbconvert_exporter": "python",
   "pygments_lexer": "ipython3",
   "version": "3.5.6"
  }
 },
 "nbformat": 4,
 "nbformat_minor": 2
}
